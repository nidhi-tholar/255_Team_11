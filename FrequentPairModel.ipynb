{
 "cells": [
  {
   "cell_type": "markdown",
   "id": "66a4cb7c",
   "metadata": {},
   "source": [
    "## Importing The required Libraries"
   ]
  },
  {
   "cell_type": "code",
   "execution_count": 1,
   "id": "1a7ccefb",
   "metadata": {},
   "outputs": [],
   "source": [
    "import pandas as pd\n",
    "\n",
    "import chess\n",
    "import chess.pgn\n",
    "\n",
    "import time"
   ]
  },
  {
   "cell_type": "markdown",
   "id": "9814ca07",
   "metadata": {},
   "source": [
    "###  List of Raw data files considered"
   ]
  },
  {
   "cell_type": "code",
   "execution_count": null,
   "id": "e7db1f05",
   "metadata": {},
   "outputs": [],
   "source": [
    "PGNfilNames = ['Modern.pgn','Reti2b3.pgn','Caro-Kann2c4.pgn','Caro-KannAdv.pgn','Caro-KannClassic.pgn','Caro-KannEx.pgn','FourKnights.pgn','GiuocoPiano.pgn','KingsGambit.pgn','Nimzowitsch-Larsen.pgn','QID4e3.pgn','RuyLopezMarshall.pgn','ScotchGambit.pgn','SicilianDragonOther6.pgn','SicilianRossolimo.pgn']"
   ]
  },
  {
   "cell_type": "markdown",
   "id": "ffbcbd6a",
   "metadata": {},
   "source": [
    "# Data Processor and suggestions Model (Frequent Pair Method)"
   ]
  },
  {
   "cell_type": "markdown",
   "id": "e5d516f2",
   "metadata": {},
   "source": [
    "## Support Functions for the Class"
   ]
  },
  {
   "cell_type": "markdown",
   "id": "59973352",
   "metadata": {},
   "source": [
    "#### PGN Reader"
   ]
  },
  {
   "cell_type": "code",
   "execution_count": null,
   "id": "f4716e16",
   "metadata": {},
   "outputs": [],
   "source": [
    "def PGNtoDF(PGNfilNames):\n",
    "    \"\"\"\n",
    "    The input is list of pgn file names with dot extensions.\n",
    "    Must be a list of strings even if there is only one element\n",
    "    \"\"\"\n",
    "    AllGames = []\n",
    "    for Nam in PGNfilNames:\n",
    "        #Open PGN as Stream\n",
    "        print('Opened',Nam)   # Printing the File names as confirmation\n",
    "        PGNFile = open('Data/'Nam)                      # Please note the file Path for PGN Files\n",
    "        \n",
    "        TestGame = chess.pgn.read_game(PGNFile)\n",
    "        Moves = TestGame.mainline()\n",
    "        \n",
    "        Game = PGNFile.read()\n",
    "        TotalEvents = Game.count('[Event')    # finding total games available in the PGN file\n",
    "        \n",
    "        PGNFile.seek(0,0)                  # Going back to the file stating position\n",
    "        \n",
    "        \n",
    "        for i in range(0,TotalEvents):     # based on the length of file we are \n",
    "            #Gam = ['modern']\n",
    "            G = chess.pgn.read_game(PGNFile)\n",
    "            Gam = list(G.headers.values())   # Fetching the game round details of players, date, etc..\n",
    "            \n",
    "            if len(Gam)< 10:                    # Checking for missing Data and appending with Empty Chars\n",
    "                for i in range (0,10-len(Gam)):\n",
    "                    Gam.append('')\n",
    "            \n",
    "            for j in range(0,len(Gam)):\n",
    "                if '?' in Gam[j]:\n",
    "                    Gam[j]=Gam[j].replace('?','0')  # Replacing ? and empty symbols with 0 to replace missing\n",
    "                elif Gam[j]=='':\n",
    "                    Gam[j] = 0\n",
    "            \n",
    "            Gam.append(Nam[:-4])                   # adding Opening as Tag\n",
    "            \n",
    "            \n",
    "            Moves = str(G.mainline())             # getting the moves as PGN record counting the number of moves based on dot.\n",
    "            SetLen = Moves.count('.')\n",
    "            for j in range(0,Moves.count('.')+1):\n",
    "                Remaining = Moves.count('.')\n",
    "                Moves = Moves.replace(' '+str(j)+'.',' ')\n",
    "                if Moves.count('.') == Remaining:\n",
    "                    Moves = Moves.replace(str(j)+'.',' ')   # identifying any missig spaces and adding them\n",
    "                \n",
    "                Moves=Moves.replace('  ',' ')\n",
    "              \n",
    "            for j in range(0,SetLen):\n",
    "                Moves = Moves.replace(' '+str(j)+' ',' ')   # adding the game length as a feature\n",
    "            \n",
    "            #Moves PGN to spaced string cleaner ends\n",
    "            \n",
    "            Gam.append(Moves)                           # adding cleaned moves and length to Dataframe list\n",
    "            Gam.append(SetLen)\n",
    "        \n",
    "            AllGames.append(Gam)\n",
    "    \n",
    "    #converting the list of games data to a pandas Dataframe\n",
    "    \n",
    "    MainDF = pd.DataFrame(AllGames,columns = ['Event', 'Site', 'Date','Round','White','Black','Result','BlackElo','ECO','WhiteElo','Opening','Moves','SetLen'])\n",
    "   \n",
    "    # replacing some of the features with different labels and removing some major data Outliers\n",
    "    \n",
    "    MainDF['Result']=MainDF['Result'].apply(lambda X: 'W' if X=='1-0' else 'B' if X=='0-1' else 'D')\n",
    "    MainDF['Moves'] = MainDF['Moves'].apply(lambda X : '' if not type(X)==str else X)\n",
    "    \n",
    "    #Creating a new feature for first opening move\n",
    "    \n",
    "    MainDF['Set1'] = MainDF['Moves'].apply(lambda X: X[0:10].split())\n",
    "    MainDF['W1'] = MainDF['Set1'].apply(lambda X: X[0] if len(X)>0 else '')\n",
    "    MainDF['B1'] = MainDF['Set1'].apply(lambda X: X[1] if len(X)>0 else '')\n",
    "    \n",
    "    return MainDF"
   ]
  },
  {
   "cell_type": "markdown",
   "id": "81a8dfc3",
   "metadata": {},
   "source": [
    "#### Listing Out Unique Moves to create frequent Pairs"
   ]
  },
  {
   "cell_type": "code",
   "execution_count": null,
   "id": "29a7f1a0",
   "metadata": {},
   "outputs": [],
   "source": [
    "def UniqueMoves(MovesList):\n",
    "    lis = MovesList                   #recieve complete Moves from DatFrame as list and converting them to single String\n",
    "    ans = str(MovesList)\n",
    "    ans=ans.replace('[','')\n",
    "    ans=ans.replace(']','')\n",
    "    ans=ans.replace(\"'\",'')          # Removing some of the list features like [ ] , and ' to combine all the lists to single large string\n",
    "    ans=ans.replace(\",\",'')\n",
    "    Splited = ans.split(' ')         # Keeping only unique moves to make a nxn matrix of pairs\n",
    "    Unique=list(pd.Series(Splited).unique())\n",
    "    Unique=Unique[0:Unique.index('')]+Unique[Unique.index('')+1:]  # Identifying and removing empty char \n",
    "    Whit = pd.DataFrame(0,columns=Unique,index=Unique)\n",
    "    Blak = pd.DataFrame(0,columns=Unique,index=Unique)     # Making two matrixes 1 for [White,Black] pair and other for [Black, White] pair\n",
    "    \n",
    "    eachrow=[i.split(' ') for i in lis]    # splitting the list to game records to iterate game by game \n",
    "    \n",
    "    for i in range(0,len(eachrow)):      # finding empty character in the game record to be removed from pair formation\n",
    "        try:\n",
    "            start = eachrow[i].index('')\n",
    "        except:\n",
    "            start = -1\n",
    "        \n",
    "        start = start+1\n",
    "        \n",
    "        for j in range(start,len(eachrow[i])-1):   # finding consecutive pairs and updating the value in matrix\n",
    "            \n",
    "            Pair = [eachrow[i][j],eachrow[i][j+1]]\n",
    "            \n",
    "            if (j-start)%2 ==0:\n",
    "                Whit.loc[Pair[0],Pair[1]] = Whit.loc[Pair[0],Pair[1]]+1\n",
    "            else:\n",
    "                Blak.loc[Pair[0],Pair[1]] = Blak.loc[Pair[0],Pair[1]]+1\n",
    "            \n",
    "            #print(Whit.loc[Pair[0],Pair[1]],Blak.loc[Pair[0],Pair[1]])\n",
    "            \n",
    "    return[Whit,Blak]"
   ]
  },
  {
   "cell_type": "markdown",
   "id": "63104e0c",
   "metadata": {},
   "source": [
    "#### Custom Filter Function for filtering based on number of moves and the side of the game (Black or White)"
   ]
  },
  {
   "cell_type": "code",
   "execution_count": null,
   "id": "5665a964",
   "metadata": {},
   "outputs": [],
   "source": [
    "def Filter(DF,MoveSet,Side=0):\n",
    "    \n",
    "    Filters = DF['Moves'].apply(lambda X: MoveSet in X[0:len(MoveSet)+2])    #Filtering the DataFrame for Moves. The DataFrame is already Filtered for Side.\n",
    "    if Side!=0:\n",
    "        Filtered = DF[DF['Result']==Side.capital()][Filters]                  #incase side is also parsed we detect which side needs to be considered.\n",
    "    else:\n",
    "        Filtered = DF[Filters]\n",
    "    \n",
    "    return Filtered"
   ]
  },
  {
   "cell_type": "markdown",
   "id": "3a6e1e23",
   "metadata": {},
   "source": [
    "#### Creating a custom Model for Frequent Pairs method with help of above functions"
   ]
  },
  {
   "cell_type": "markdown",
   "id": "0172d066",
   "metadata": {},
   "source": [
    "Since Frequent pair model is not seen to be available with pre made libraries, we are creating custom frequent pair identification model.<br>All the above defined functions are used as support functions for the class."
   ]
  },
  {
   "cell_type": "code",
   "execution_count": null,
   "id": "fb086638",
   "metadata": {},
   "outputs": [],
   "source": [
    "class ChessClass:\n",
    "    \n",
    "    def __init__(self):                          #Initializing the class with  Multiple required variables\n",
    "        self.PGNFiles = []\n",
    "        self.TotalDF = 0\n",
    "        self.WhiteN=0\n",
    "        self.BlackN=0\n",
    "        self.Statistics =0\n",
    "        self.CurrentFilter=0\n",
    "        self.CurrentFilterDF=0\n",
    "        self.FocusSide='W'\n",
    "        self.FirstMoves = {}\n",
    "        \n",
    "        return\n",
    "    \n",
    "    def getFileNames(self,Names):                 # Get the file names in list.  File names should be in Name.ext format\n",
    "        Flag = True     #everything is fine flag\n",
    "        if type(Names)==str:\n",
    "            N = Names.split(' ')\n",
    "        elif type(Names)==list:\n",
    "            N = Names\n",
    "        \n",
    "        for i in N:                #Showing User for any Error in file name.\n",
    "            if not '.' in i :\n",
    "                print('Dot Extension Not Found -->',i,\"\\nThe File Names should contain dot extension.\")\n",
    "                break\n",
    "        \n",
    "        if Flag:\n",
    "            self.PGNFiles = N\n",
    "        \n",
    "        return\n",
    "    \n",
    "    def SetSide(self,Color):         #Set the model's game side. By default White 'W'. Can be changed to Black 'B' \n",
    "        self.FocusSide = Color\n",
    "        return\n",
    "    \n",
    "    def getDF(self):\n",
    "        self.TotalDF = PGNtoDF(self.PGNFiles)  # Get The Complete Dataset of the Games\n",
    "        return\n",
    "    \n",
    "    def FilterDF(self,Opening):      #Filter the Dataset to reduce the Size and focused starting \n",
    "        self.CurrentFilterDF = Filter(self.TotalDF[self.TotalDF['Result']==self.FocusSide],Opening)\n",
    "        return\n",
    "    \n",
    "    def FitDF(self):\n",
    "        MoveList=self.CurrentFilterDF['Moves'].to_list()  # Creates frequent Unique pairs and their counts in NxN matrix\n",
    "        \n",
    "        [self.WhiteN,self.BlackN] = UniqueMoves(MoveList)\n",
    "        \n",
    "        return\n",
    "    \n",
    "    def ShowNextBest(self,Move,NextMoveCol):    # For given last move, and Next move's Colour, The most played moves are returned\n",
    "        \n",
    "        if NextMoveCol == 'B' or NextMoveCol == 'b' or NextMoveCol == 1:  # Based on next move's colour, The pairs matrix is determined.\n",
    "            Stat = self.WhiteN.loc[Move,:][self.WhiteN.loc[Move,:]>0]\n",
    "        elif NextMoveCol == 'W' or NextMoveCol == 'w' or NextMoveCol == 0:\n",
    "            Stat = self.BlackN.loc[Move,:][self.BlackN.loc[Move,:]>0]\n",
    "        else:\n",
    "            print(\"Unknown Color passed -->\",NextMoveCol,\"\\nValues can be 'W', or 'b'\")\n",
    "        \n",
    "        \n",
    "        print('Some of the Most played Moves are:\\n',Stat)\n",
    "        return Stat"
   ]
  },
  {
   "cell_type": "markdown",
   "id": "d1dad30f",
   "metadata": {},
   "source": [
    "#### Using The Above class to create a new Model"
   ]
  },
  {
   "cell_type": "code",
   "execution_count": null,
   "id": "e74ee133",
   "metadata": {},
   "outputs": [],
   "source": [
    "Model = ChessClass()                  # Initiate frequent pair model\n",
    "Model.getFileNames(PGNfilNames)  # notes what file to be read\n",
    "Model.getDF()\n",
    "Model.SetSide('W')               # Setting the game side for suggestions. White is the default side for model"
   ]
  },
  {
   "cell_type": "code",
   "execution_count": null,
   "id": "7354ee28",
   "metadata": {},
   "outputs": [],
   "source": [
    "Model.FilterDF('e4 e5')          # filtereng the records based on provided set of moves. first move is white\n",
    "Model.FitDF()                    # splits the frequent pairs based on [white,black] and [black,white]\n",
    "Suggestions = Model.ShowNextBest('e5','W')     # get next move suggestions for this current move based on which side is making move next."
   ]
  },
  {
   "cell_type": "code",
   "execution_count": null,
   "id": "2350512d",
   "metadata": {},
   "outputs": [],
   "source": [
    "print(Suggestions)"
   ]
  },
  {
   "cell_type": "markdown",
   "id": "9bc692e3",
   "metadata": {},
   "source": [
    "## Using The above Model to read the Complete Dataframe of all openings"
   ]
  },
  {
   "cell_type": "markdown",
   "id": "f0bd83bf",
   "metadata": {},
   "source": [
    "Using the Above Model to get Complete DataSet.\n",
    "(The Data Processing takes around 20 mins to read all the Files and the records result upto 236000 records approximately)"
   ]
  },
  {
   "cell_type": "code",
   "execution_count": null,
   "id": "85ac4a93",
   "metadata": {},
   "outputs": [],
   "source": [
    "CompleteSet = Model.TotalDF"
   ]
  },
  {
   "cell_type": "code",
   "execution_count": 2,
   "id": "f61566d3",
   "metadata": {},
   "outputs": [],
   "source": [
    "CompleteSet = pd.read_csv('CompletePGN.csv')"
   ]
  },
  {
   "cell_type": "code",
   "execution_count": 3,
   "id": "5e2fc1b2",
   "metadata": {},
   "outputs": [],
   "source": [
    "W1 = CompleteSet['W1']\n",
    "B1 = CompleteSet['B1']"
   ]
  },
  {
   "cell_type": "markdown",
   "id": "c24a0f65",
   "metadata": {},
   "source": [
    "#### Distribution of white's First move for all the considered PGN openings"
   ]
  },
  {
   "cell_type": "code",
   "execution_count": 4,
   "id": "297a98ba",
   "metadata": {},
   "outputs": [
    {
     "data": {
      "text/plain": [
       "<seaborn.axisgrid.FacetGrid at 0x2b0dfa92e80>"
      ]
     },
     "execution_count": 4,
     "metadata": {},
     "output_type": "execute_result"
    },
    {
     "data": {
      "image/png": "[encoded data removed]",
      "text/plain": [
       "<Figure size 360x360 with 1 Axes>"
      ]
     },
     "metadata": {
      "needs_background": "light"
     },
     "output_type": "display_data"
    }
   ],
   "source": [
    "import seaborn as sb\n",
    "\n",
    "sb.displot(W1)"
   ]
  },
  {
   "cell_type": "markdown",
   "id": "0b783bd6",
   "metadata": {},
   "source": [
    "#### Distribution of Black's first move"
   ]
  },
  {
   "cell_type": "code",
   "execution_count": 5,
   "id": "e53dd89f",
   "metadata": {},
   "outputs": [
    {
     "data": {
      "text/plain": [
       "<seaborn.axisgrid.FacetGrid at 0x2b0e4e95af0>"
      ]
     },
     "execution_count": 5,
     "metadata": {},
     "output_type": "execute_result"
    },
    {
     "data": {
      "image/png": "[encoded data removed]",
      "text/plain": [
       "<Figure size 360x360 with 1 Axes>"
      ]
     },
     "metadata": {
      "needs_background": "light"
     },
     "output_type": "display_data"
    }
   ],
   "source": [
    "sb.displot(B1)"
   ]
  },
  {
   "cell_type": "markdown",
   "id": "c7f70d93",
   "metadata": {},
   "source": [
    "## Exploring Vectorized prediction for Decision Tree"
   ]
  },
  {
   "cell_type": "markdown",
   "id": "2c55e878",
   "metadata": {},
   "source": [
    "#### Using Vectorised Game Moves as Prediction Features and Result of the game as Target feature"
   ]
  },
  {
   "cell_type": "code",
   "execution_count": 6,
   "id": "36588d76",
   "metadata": {},
   "outputs": [],
   "source": [
    "from sklearn.tree import DecisionTreeClassifier\n",
    "from sklearn.model_selection import train_test_split\n",
    "from sklearn.metrics import accuracy_score\n",
    "\n",
    "from sklearn.feature_extraction.text import CountVectorizer"
   ]
  },
  {
   "cell_type": "code",
   "execution_count": 19,
   "id": "52ece3d9",
   "metadata": {},
   "outputs": [],
   "source": [
    "Movs = CompleteSet['Moves'].apply(lambda X: '' if type(X)!=str else X)\n",
    "Movs=Movs.to_list()\n",
    "\n",
    "Vect = CountVectorizer()\n",
    "\n",
    "Corp = Vect.fit_transform(Movs)"
   ]
  },
  {
   "cell_type": "code",
   "execution_count": 20,
   "id": "d7ad4532",
   "metadata": {},
   "outputs": [
    {
     "data": {
      "text/plain": [
       "(236431, 3487)"
      ]
     },
     "execution_count": 20,
     "metadata": {},
     "output_type": "execute_result"
    }
   ],
   "source": [
    "Corp.shape"
   ]
  },
  {
   "cell_type": "code",
   "execution_count": 10,
   "id": "a212130a",
   "metadata": {},
   "outputs": [],
   "source": [
    "Targ = CompleteSet['Result'].apply(lambda X: 1 if X=='W' else 2 if X=='B' else 0)"
   ]
  },
  {
   "cell_type": "code",
   "execution_count": 21,
   "id": "a1e66cc4",
   "metadata": {},
   "outputs": [],
   "source": [
    "xtr,ytr,xts,yts = train_test_split(Corp, Targ, test_size=0.3)"
   ]
  },
  {
   "cell_type": "code",
   "execution_count": 24,
   "id": "4f9cccb4",
   "metadata": {},
   "outputs": [],
   "source": [
    "import numpy as np"
   ]
  },
  {
   "cell_type": "code",
   "execution_count": 27,
   "id": "ef3cc3c6",
   "metadata": {},
   "outputs": [],
   "source": [
    "DTC = DecisionTreeClassifier()\n",
    "DTC.fit(xtr.toarray(),ytr)\n",
    "Pred = DTC.predict(xts)"
   ]
  },
  {
   "cell_type": "code",
   "execution_count": null,
   "id": "05b1986d",
   "metadata": {},
   "outputs": [],
   "source": [
    "accuracy_score(yts,Pred)"
   ]
  }
 ],
 "metadata": {
  "kernelspec": {
   "display_name": "Python 3 (ipykernel)",
   "language": "python",
   "name": "python3"
  },
  "language_info": {
   "codemirror_mode": {
    "name": "ipython",
    "version": 3
   },
   "file_extension": ".py",
   "mimetype": "text/x-python",
   "name": "python",
   "nbconvert_exporter": "python",
   "pygments_lexer": "ipython3",
   "version": "3.8.5"
  }
 },
 "nbformat": 4,
 "nbformat_minor": 5
}
