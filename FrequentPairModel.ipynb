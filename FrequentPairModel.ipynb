{
 "cells": [
  {
   "cell_type": "markdown",
   "id": "66a4cb7c",
   "metadata": {},
   "source": [
    "## Importing The required Libraries"
   ]
  },
  {
   "cell_type": "code",
   "execution_count": null,
   "id": "a0b0667a",
   "metadata": {},
   "outputs": [],
   "source": [
    "import pandas as pd\n",
    "\n",
    "import chess\n",
    "import chess.pgn\n",
    "\n",
    "import time"
   ]
  },
  {
   "cell_type": "markdown",
   "id": "9814ca07",
   "metadata": {},
   "source": [
    "###  List of Raw data files considered"
   ]
  },
  {
   "cell_type": "code",
   "execution_count": null,
   "id": "099f05cd",
   "metadata": {},
   "outputs": [],
   "source": [
    "PGNfilNames = ['Modern.pgn','Reti2b3.pgn','Caro-Kann2c4.pgn','Caro-KannAdv.pgn','Caro-KannClassic.pgn','Caro-KannEx.pgn','FourKnights.pgn','GiuocoPiano.pgn','KingsGambit.pgn','Nimzowitsch-Larsen.pgn','QID4e3.pgn','RuyLopezMarshall.pgn','ScotchGambit.pgn','SicilianDragonOther6.pgn','SicilianRossolimo.pgn']"
   ]
  },
  {
   "cell_type": "markdown",
   "id": "59973352",
   "metadata": {},
   "source": [
    "#### PGN Reader"
   ]
  },
  {
   "cell_type": "code",
   "execution_count": null,
   "id": "b6fd5d84",
   "metadata": {},
   "outputs": [],
   "source": [
    "def PGNtoDF(PGNfilNames):\n",
    "    \"\"\"\n",
    "    The input is list of pgn file names with dot extensions.\n",
    "    Must be a list of strings even if there is only one element\n",
    "    \"\"\"\n",
    "    AllGames = []\n",
    "    for Nam in PGNfilNames:\n",
    "        #Open PGN as Stream\n",
    "        print('Opened',Nam)\n",
    "        PGNFile = open(Nam)\n",
    "        \n",
    "        TestGame = chess.pgn.read_game(PGNFile)\n",
    "        Moves = TestGame.mainline()\n",
    "        \n",
    "        Game = PGNFile.read()\n",
    "        TotalEvents = Game.count('[Event')\n",
    "        \n",
    "        PGNFile.seek(0,0)\n",
    "        \n",
    "        \n",
    "        for i in range(0,TotalEvents):\n",
    "            #Gam = ['modern']\n",
    "            G = chess.pgn.read_game(PGNFile)\n",
    "            Gam = list(G.headers.values())\n",
    "            \n",
    "            if len(Gam)< 10:\n",
    "                for i in range (0,10-len(Gam)):\n",
    "                    Gam.append('')\n",
    "            \n",
    "            for j in range(0,len(Gam)):\n",
    "                if '?' in Gam[j]:\n",
    "                    Gam[j]=Gam[j].replace('?','0')\n",
    "                elif Gam[j]=='':\n",
    "                    Gam[j] = 0\n",
    "            \n",
    "            Gam.append(Nam[:-4])\n",
    "            \n",
    "            #Moves PGN to spaced string cleaner starts\n",
    "            Moves = str(G.mainline())\n",
    "            SetLen = Moves.count('.')\n",
    "            for j in range(0,Moves.count('.')+1):\n",
    "                Remaining = Moves.count('.')\n",
    "                Moves = Moves.replace(' '+str(j)+'.',' ')\n",
    "                if Moves.count('.') == Remaining:\n",
    "                    Moves = Moves.replace(str(j)+'.',' ')\n",
    "                \n",
    "                Moves=Moves.replace('  ',' ')\n",
    "              \n",
    "            for j in range(0,SetLen):\n",
    "                Moves = Moves.replace(' '+str(j)+' ',' ')\n",
    "            \n",
    "            #Moves PGN to spaced string cleaner ends\n",
    "            \n",
    "            Gam.append(Moves)\n",
    "            Gam.append(SetLen)\n",
    "        \n",
    "            AllGames.append(Gam)\n",
    "     \n",
    "    MainDF = pd.DataFrame(AllGames,columns = ['Event', 'Site', 'Date','Round','White','Black','Result','BlackElo','ECO','WhiteElo','Opening','Moves','SetLen'])\n",
    "    MainDF['Result']=MainDF['Result'].apply(lambda X: 'W' if X=='1-0' else 'B' if X=='0-1' else 'D')\n",
    "    MainDF['Moves'] = MainDF['Moves'].apply(lambda X : '' if not type(X)==str else X)\n",
    "    MainDF['Set1'] = MainDF['Moves'].apply(lambda X: X[0:10].split())\n",
    "    MainDF['W1'] = MainDF['Set1'].apply(lambda X: X[0] if len(X)>0 else '')\n",
    "    MainDF['B1'] = MainDF['Set1'].apply(lambda X: X[1] if len(X)>0 else '')\n",
    "    return MainDF"
   ]
  }
 ],
 "metadata": {
  "kernelspec": {
   "display_name": "Python 3 (ipykernel)",
   "language": "python",
   "name": "python3"
  },
  "language_info": {
   "codemirror_mode": {
    "name": "ipython",
    "version": 3
   },
   "file_extension": ".py",
   "mimetype": "text/x-python",
   "name": "python",
   "nbconvert_exporter": "python",
   "pygments_lexer": "ipython3",
   "version": "3.8.5"
  }
 },
 "nbformat": 4,
 "nbformat_minor": 5
}
