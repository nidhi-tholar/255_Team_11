{
  "nbformat": 4,
  "nbformat_minor": 0,
  "metadata": {
    "colab": {
      "name": "Tech3.ipynb",
      "provenance": [],
      "collapsed_sections": []
    },
    "kernelspec": {
      "name": "python3",
      "display_name": "Python 3"
    },
    "language_info": {
      "name": "python"
    }
  },
  "cells": [
    {
      "cell_type": "markdown",
      "metadata": {
        "id": "pw0aHl_N6Ah1"
      },
      "source": [
        "# Main Code"
      ]
    },
    {
      "cell_type": "code",
      "metadata": {
        "id": "MR5ppdq5HKUx"
      },
      "source": [
        "import pandas as pd"
      ],
      "execution_count": null,
      "outputs": []
    },
    {
      "cell_type": "markdown",
      "source": [
        "Exploring Potential Usage of Board vectorization technique"
      ],
      "metadata": {
        "id": "AqWZmV7DUtB1"
      }
    },
    {
      "cell_type": "markdown",
      "source": [
        "Considered cleaned PGN format of 1 game for experimentation"
      ],
      "metadata": {
        "id": "IS7sNQrYUyHS"
      }
    },
    {
      "cell_type": "code",
      "metadata": {
        "colab": {
          "base_uri": "https://localhost:8080/",
          "height": 88
        },
        "id": "40788AnFHNNO",
        "outputId": "0f356f57-bc03-4d01-a612-f6d7439bf206"
      },
      "source": [
        "Moves = 'e4 e5 Nh3 Qg5 Bd3 Be7 O-O Nc6 a4 d6 f4 exf4 c4 Be6 Qf3 O-O-O b3 Qg6 Nc3 a5 Nb5 Nd4 Qxf4 Bxh3 e5 Kb8 Nxd4 Qxd3 Qf3 Qxd4+ Qf2 Qxa1 d4 Qc3 exd6 Bh4 Bg5 Qxf7Be3+ Rf2 Bxe3 Qxe3+ Rf2 Qe1+ Rf1 Qh4 Qd5 Re8 Qf3 Re1 b4 Nf6 Qf8+ Ka7 dxc7 Nf6 Qb8+ Rxb8 cxb8=Q+ Kxb8 Rxe1 Qxe1#'\n",
        "Moves"
      ],
      "execution_count": null,
      "outputs": [
        {
          "output_type": "execute_result",
          "data": {
            "application/vnd.google.colaboratory.intrinsic+json": {
              "type": "string"
            },
            "text/plain": [
              "'e4 e5 Nh3 Qg5 Bd3 Be7 O-O Nc6 a4 d6 f4 exf4 c4 Be6 Qf3 O-O-O b3 Qg6 Nc3 a5 Nb5 Nd4 Qxf4 Bxh3 e5 Kb8 Nxd4 Qxd3 Qf3 Qxd4+ Qf2 Qxa1 d4 Qc3 exd6 Bh4 Bg5 Qxf7Be3+ Rf2 Bxe3 Qxe3+ Rf2 Qe1+ Rf1 Qh4 Qd5 Re8 Qf3 Re1 b4 Nf6 Qf8+ Ka7 dxc7 Nf6 Qb8+ Rxb8 cxb8=Q+ Kxb8 Rxe1 Qxe1#'"
            ]
          },
          "metadata": {},
          "execution_count": 2
        }
      ]
    },
    {
      "cell_type": "markdown",
      "source": [
        "Creating a Chess Board with Characters as positional values. (Extended Board to check Color of the block)"
      ],
      "metadata": {
        "id": "2faEkXQgVB_m"
      }
    },
    {
      "cell_type": "code",
      "metadata": {
        "colab": {
          "base_uri": "https://localhost:8080/",
          "height": 300
        },
        "id": "PpF49mweHQHI",
        "outputId": "608e356f-6713-493e-ed03-706479b25355"
      },
      "source": [
        "Pos=[\n",
        "     ['1','2','3','4','5','6','7','8','W','B','W','B','W','B','W','B'],\n",
        "     ['9','A','B','C','D','E','F','G','B','W','B','W','B','W','B','W'],\n",
        "     ['H','I','J','K','L','M','N','O','W','B','W','B','W','B','W','B'],\n",
        "     ['P','Q','R','S','T','U','V','W','B','W','B','W','B','W','B','W'],\n",
        "     ['X','Y','Z','a','b','c','d','e','W','B','W','B','W','B','W','B'],\n",
        "     ['f','g','h','i','j','k','l','m','B','W','B','W','B','W','B','W'],\n",
        "     ['n','o','p','q','r','s','t','u','W','B','W','B','W','B','W','B'],\n",
        "     ['v','w','x','y','z','<','^','>','B','W','B','W','B','W','B','W']\n",
        "    ]\n",
        "RevPos = ['1','2','3','4','5','6','7','8','9','A','B','C','D','E','F','G','H','I','J','K','L','M','N','O','P','Q','R','S','T','U','V','W','X','Y','Z','a','b','c','d','e','f','g','h','i','j','k','l','m','n','o','p','q','r','s','t','u','v','w','x','y','z','<','^','>']\n",
        "Board=pd.DataFrame(Pos,columns=['a','b','c','d','e','f','g','h','A','B','C','D','E','F','G','H'],index=[8,7,6,5,4,3,2,1])\n",
        "Board"
      ],
      "execution_count": null,
      "outputs": [
        {
          "output_type": "execute_result",
          "data": {
            "text/html": [
              "<div>\n",
              "<style scoped>\n",
              "    .dataframe tbody tr th:only-of-type {\n",
              "        vertical-align: middle;\n",
              "    }\n",
              "\n",
              "    .dataframe tbody tr th {\n",
              "        vertical-align: top;\n",
              "    }\n",
              "\n",
              "    .dataframe thead th {\n",
              "        text-align: right;\n",
              "    }\n",
              "</style>\n",
              "<table border=\"1\" class=\"dataframe\">\n",
              "  <thead>\n",
              "    <tr style=\"text-align: right;\">\n",
              "      <th></th>\n",
              "      <th>a</th>\n",
              "      <th>b</th>\n",
              "      <th>c</th>\n",
              "      <th>d</th>\n",
              "      <th>e</th>\n",
              "      <th>f</th>\n",
              "      <th>g</th>\n",
              "      <th>h</th>\n",
              "      <th>A</th>\n",
              "      <th>B</th>\n",
              "      <th>C</th>\n",
              "      <th>D</th>\n",
              "      <th>E</th>\n",
              "      <th>F</th>\n",
              "      <th>G</th>\n",
              "      <th>H</th>\n",
              "    </tr>\n",
              "  </thead>\n",
              "  <tbody>\n",
              "    <tr>\n",
              "      <th>8</th>\n",
              "      <td>1</td>\n",
              "      <td>2</td>\n",
              "      <td>3</td>\n",
              "      <td>4</td>\n",
              "      <td>5</td>\n",
              "      <td>6</td>\n",
              "      <td>7</td>\n",
              "      <td>8</td>\n",
              "      <td>W</td>\n",
              "      <td>B</td>\n",
              "      <td>W</td>\n",
              "      <td>B</td>\n",
              "      <td>W</td>\n",
              "      <td>B</td>\n",
              "      <td>W</td>\n",
              "      <td>B</td>\n",
              "    </tr>\n",
              "    <tr>\n",
              "      <th>7</th>\n",
              "      <td>9</td>\n",
              "      <td>A</td>\n",
              "      <td>B</td>\n",
              "      <td>C</td>\n",
              "      <td>D</td>\n",
              "      <td>E</td>\n",
              "      <td>F</td>\n",
              "      <td>G</td>\n",
              "      <td>B</td>\n",
              "      <td>W</td>\n",
              "      <td>B</td>\n",
              "      <td>W</td>\n",
              "      <td>B</td>\n",
              "      <td>W</td>\n",
              "      <td>B</td>\n",
              "      <td>W</td>\n",
              "    </tr>\n",
              "    <tr>\n",
              "      <th>6</th>\n",
              "      <td>H</td>\n",
              "      <td>I</td>\n",
              "      <td>J</td>\n",
              "      <td>K</td>\n",
              "      <td>L</td>\n",
              "      <td>M</td>\n",
              "      <td>N</td>\n",
              "      <td>O</td>\n",
              "      <td>W</td>\n",
              "      <td>B</td>\n",
              "      <td>W</td>\n",
              "      <td>B</td>\n",
              "      <td>W</td>\n",
              "      <td>B</td>\n",
              "      <td>W</td>\n",
              "      <td>B</td>\n",
              "    </tr>\n",
              "    <tr>\n",
              "      <th>5</th>\n",
              "      <td>P</td>\n",
              "      <td>Q</td>\n",
              "      <td>R</td>\n",
              "      <td>S</td>\n",
              "      <td>T</td>\n",
              "      <td>U</td>\n",
              "      <td>V</td>\n",
              "      <td>W</td>\n",
              "      <td>B</td>\n",
              "      <td>W</td>\n",
              "      <td>B</td>\n",
              "      <td>W</td>\n",
              "      <td>B</td>\n",
              "      <td>W</td>\n",
              "      <td>B</td>\n",
              "      <td>W</td>\n",
              "    </tr>\n",
              "    <tr>\n",
              "      <th>4</th>\n",
              "      <td>X</td>\n",
              "      <td>Y</td>\n",
              "      <td>Z</td>\n",
              "      <td>a</td>\n",
              "      <td>b</td>\n",
              "      <td>c</td>\n",
              "      <td>d</td>\n",
              "      <td>e</td>\n",
              "      <td>W</td>\n",
              "      <td>B</td>\n",
              "      <td>W</td>\n",
              "      <td>B</td>\n",
              "      <td>W</td>\n",
              "      <td>B</td>\n",
              "      <td>W</td>\n",
              "      <td>B</td>\n",
              "    </tr>\n",
              "    <tr>\n",
              "      <th>3</th>\n",
              "      <td>f</td>\n",
              "      <td>g</td>\n",
              "      <td>h</td>\n",
              "      <td>i</td>\n",
              "      <td>j</td>\n",
              "      <td>k</td>\n",
              "      <td>l</td>\n",
              "      <td>m</td>\n",
              "      <td>B</td>\n",
              "      <td>W</td>\n",
              "      <td>B</td>\n",
              "      <td>W</td>\n",
              "      <td>B</td>\n",
              "      <td>W</td>\n",
              "      <td>B</td>\n",
              "      <td>W</td>\n",
              "    </tr>\n",
              "    <tr>\n",
              "      <th>2</th>\n",
              "      <td>n</td>\n",
              "      <td>o</td>\n",
              "      <td>p</td>\n",
              "      <td>q</td>\n",
              "      <td>r</td>\n",
              "      <td>s</td>\n",
              "      <td>t</td>\n",
              "      <td>u</td>\n",
              "      <td>W</td>\n",
              "      <td>B</td>\n",
              "      <td>W</td>\n",
              "      <td>B</td>\n",
              "      <td>W</td>\n",
              "      <td>B</td>\n",
              "      <td>W</td>\n",
              "      <td>B</td>\n",
              "    </tr>\n",
              "    <tr>\n",
              "      <th>1</th>\n",
              "      <td>v</td>\n",
              "      <td>w</td>\n",
              "      <td>x</td>\n",
              "      <td>y</td>\n",
              "      <td>z</td>\n",
              "      <td>&lt;</td>\n",
              "      <td>^</td>\n",
              "      <td>&gt;</td>\n",
              "      <td>B</td>\n",
              "      <td>W</td>\n",
              "      <td>B</td>\n",
              "      <td>W</td>\n",
              "      <td>B</td>\n",
              "      <td>W</td>\n",
              "      <td>B</td>\n",
              "      <td>W</td>\n",
              "    </tr>\n",
              "  </tbody>\n",
              "</table>\n",
              "</div>"
            ],
            "text/plain": [
              "   a  b  c  d  e  f  g  h  A  B  C  D  E  F  G  H\n",
              "8  1  2  3  4  5  6  7  8  W  B  W  B  W  B  W  B\n",
              "7  9  A  B  C  D  E  F  G  B  W  B  W  B  W  B  W\n",
              "6  H  I  J  K  L  M  N  O  W  B  W  B  W  B  W  B\n",
              "5  P  Q  R  S  T  U  V  W  B  W  B  W  B  W  B  W\n",
              "4  X  Y  Z  a  b  c  d  e  W  B  W  B  W  B  W  B\n",
              "3  f  g  h  i  j  k  l  m  B  W  B  W  B  W  B  W\n",
              "2  n  o  p  q  r  s  t  u  W  B  W  B  W  B  W  B\n",
              "1  v  w  x  y  z  <  ^  >  B  W  B  W  B  W  B  W"
            ]
          },
          "metadata": {},
          "execution_count": 3
        }
      ]
    },
    {
      "cell_type": "markdown",
      "source": [
        "Based on the above positional codes and assuming  PPPPPPPPRNBQKBNR as Pieces positions and this is considered for both white:Black. (: delimeter)"
      ],
      "metadata": {
        "id": "4J0pkhrgVS2K"
      }
    },
    {
      "cell_type": "code",
      "metadata": {
        "id": "oI3M6sa_HSo0"
      },
      "source": [
        "Initial_board = 'nopqrstuvwxyz<^>:9ABCDEFG12345678'"
      ],
      "execution_count": null,
      "outputs": []
    },
    {
      "cell_type": "markdown",
      "source": [
        "Considering Special Peices and different Pieces actions such as cpature, check, Castle and promotion apart from moving to various positions"
      ],
      "metadata": {
        "id": "QWoIW1-CVsQq"
      }
    },
    {
      "cell_type": "code",
      "metadata": {
        "id": "RJo0ibWWHVLr"
      },
      "source": [
        "PeicesCode = ['N','R','B','Q','K']\n",
        "ActionCode = ['O','+','x','#','=']"
      ],
      "execution_count": null,
      "outputs": []
    },
    {
      "cell_type": "markdown",
      "source": [
        "Required to keep Track of various Pieces Rank"
      ],
      "metadata": {
        "id": "Bdk05KjfWI2N"
      }
    },
    {
      "cell_type": "code",
      "metadata": {
        "id": "hKUW8ideHW_z"
      },
      "source": [
        "PeiceRank=['PPPPPPPPRNBQKBNR','PPPPPPPPRNBQKBNR']"
      ],
      "execution_count": null,
      "outputs": []
    },
    {
      "cell_type": "markdown",
      "source": [
        "Iterative Process to determine the Board's Arrangement after each game move and keeping track of the updated changes in log."
      ],
      "metadata": {
        "id": "mJBkWc_GWWHy"
      }
    },
    {
      "cell_type": "code",
      "metadata": {
        "id": "ns3mUlX1VeyQ"
      },
      "source": [
        "# Finding what peice is moved\n",
        "MovePiece=[]\n",
        "Actions=[]\n",
        "Decoded=[]\n",
        "M = Moves.split(' ')\n",
        "CBoard=Initial_board      \n",
        "Div = CBoard.index(':')+1\n",
        "for i in M:\n",
        "  Move=i\n",
        "  Color = M.index(Move)%2\n",
        "  Action=[]           # Castleing, Castle side, Check, Capture, Mate, Promotion\n",
        "  if i[0] in PeicesCode:\n",
        "    Peice = i[0]\n",
        "    Move=Move[1:]\n",
        "  elif 'O' in i:\n",
        "    Peice='K'\n",
        "  else:\n",
        "    Peice = 'P'\n",
        "  \n",
        "  if 'O' in i:                                #checking for various actions\n",
        "    if i.count('O') == 3 :\n",
        "      Action.append(True)\n",
        "      Action.append(True)\n",
        "    elif i.count('O') == 2:\n",
        "      Action.append(True)\n",
        "      Action.append(False)\n",
        "    \n",
        "    Move=Move.replace('O','')\n",
        "    Move=Move.replace('-','')\n",
        "  else:\n",
        "    Action.append(False)\n",
        "    Action.append(False)\n",
        "    \n",
        "  if '+' in i:\n",
        "    Action.append(True)\n",
        "    Move=Move.replace('+','')\n",
        "  else:\n",
        "    Action.append(False)\n",
        "\n",
        "  if ('x' in i or 'X' in i) :\n",
        "    Action.append(True)\n",
        "    Move=Move.replace('x','')\n",
        "    Move=Move.replace('X','')\n",
        "  else:\n",
        "    Action.append(False)\n",
        "  \n",
        "  if '#' in i:\n",
        "    Action.append(True)\n",
        "    Move=Move.replace('#','')\n",
        "  else:\n",
        "    Action.append(False)\n",
        "\n",
        "  if '=' in i:\n",
        "    Action.append(True)\n",
        "    Action.append(i[i.index('=')+1])\n",
        "    Move=Move = Move[:Move.index('=')]\n",
        "    Move=Move.replace('=','')\n",
        "  else:\n",
        "    Action.append(False)\n",
        "    Action.append('')\n",
        "\n",
        "  #print(i,':',Peice)\n",
        "  if len(Move) >3:    #Finding Staring Move and Ending Moves\n",
        "    Start = Move[:1]\n",
        "    End = Move[-2:]\n",
        "  elif (len(Move) == 3 and Move[1].isdigit()):\n",
        "    Start = Move[0:1]\n",
        "    End = Move[-1:]\n",
        "  elif (len(Move) == 3 and Move[1].isalpha()):\n",
        "    Start = Move[0]\n",
        "    End = Move[-2:]\n",
        "  elif len(Move)==2:\n",
        "    Start=''\n",
        "    End = Move\n",
        "  else:\n",
        "    Start=''\n",
        "    End=''\n",
        "\n",
        "  Positions=[]\n",
        "  start_ind=0\n",
        "  for i in range(0,PeiceRank[Color].count(Peice)):\n",
        "    Positions.append(PeiceRank[Color].index(Peice,start_ind)+(Div*Color))\n",
        "    start_ind=PeiceRank[Color].index(Peice,start_ind)+1\n",
        "\n",
        "  \n",
        "  Decoded.append([Peice,Action,Move,Start,End,Color,Positions])\n",
        "\n",
        "\n",
        "\n"
      ],
      "execution_count": null,
      "outputs": []
    },
    {
      "cell_type": "code",
      "metadata": {
        "colab": {
          "base_uri": "https://localhost:8080/"
        },
        "id": "LcD5LKj42jxo",
        "outputId": "9bce3ee2-b67b-4e3c-cb63-32a187fbd7b4"
      },
      "source": [
        "Decoded"
      ],
      "execution_count": null,
      "outputs": [
        {
          "output_type": "execute_result",
          "data": {
            "text/plain": [
              "[['P',\n",
              "  [False, False, False, False, False, False, ''],\n",
              "  'e4',\n",
              "  '',\n",
              "  'e4',\n",
              "  0,\n",
              "  [0, 1, 2, 3, 4, 5, 6, 7]],\n",
              " ['P',\n",
              "  [False, False, False, False, False, False, ''],\n",
              "  'e5',\n",
              "  '',\n",
              "  'e5',\n",
              "  1,\n",
              "  [17, 18, 19, 20, 21, 22, 23, 24]],\n",
              " ['N',\n",
              "  [False, False, False, False, False, False, ''],\n",
              "  'h3',\n",
              "  '',\n",
              "  'h3',\n",
              "  0,\n",
              "  [9, 14]],\n",
              " ['Q',\n",
              "  [False, False, False, False, False, False, ''],\n",
              "  'g5',\n",
              "  '',\n",
              "  'g5',\n",
              "  1,\n",
              "  [28]],\n",
              " ['B',\n",
              "  [False, False, False, False, False, False, ''],\n",
              "  'd3',\n",
              "  '',\n",
              "  'd3',\n",
              "  0,\n",
              "  [10, 13]],\n",
              " ['B',\n",
              "  [False, False, False, False, False, False, ''],\n",
              "  'e7',\n",
              "  '',\n",
              "  'e7',\n",
              "  1,\n",
              "  [27, 30]],\n",
              " ['K', [True, False, False, False, False, False, ''], '', '', '', 0, [12]],\n",
              " ['N',\n",
              "  [False, False, False, False, False, False, ''],\n",
              "  'c6',\n",
              "  '',\n",
              "  'c6',\n",
              "  1,\n",
              "  [26, 31]],\n",
              " ['P',\n",
              "  [False, False, False, False, False, False, ''],\n",
              "  'a4',\n",
              "  '',\n",
              "  'a4',\n",
              "  0,\n",
              "  [0, 1, 2, 3, 4, 5, 6, 7]],\n",
              " ['P',\n",
              "  [False, False, False, False, False, False, ''],\n",
              "  'd6',\n",
              "  '',\n",
              "  'd6',\n",
              "  1,\n",
              "  [17, 18, 19, 20, 21, 22, 23, 24]],\n",
              " ['P',\n",
              "  [False, False, False, False, False, False, ''],\n",
              "  'f4',\n",
              "  '',\n",
              "  'f4',\n",
              "  0,\n",
              "  [0, 1, 2, 3, 4, 5, 6, 7]],\n",
              " ['P',\n",
              "  [False, False, False, True, False, False, ''],\n",
              "  'ef4',\n",
              "  'e',\n",
              "  'f4',\n",
              "  1,\n",
              "  [17, 18, 19, 20, 21, 22, 23, 24]],\n",
              " ['P',\n",
              "  [False, False, False, False, False, False, ''],\n",
              "  'c4',\n",
              "  '',\n",
              "  'c4',\n",
              "  0,\n",
              "  [0, 1, 2, 3, 4, 5, 6, 7]],\n",
              " ['B',\n",
              "  [False, False, False, False, False, False, ''],\n",
              "  'e6',\n",
              "  '',\n",
              "  'e6',\n",
              "  1,\n",
              "  [27, 30]],\n",
              " ['Q',\n",
              "  [False, False, False, False, False, False, ''],\n",
              "  'f3',\n",
              "  '',\n",
              "  'f3',\n",
              "  0,\n",
              "  [11]],\n",
              " ['K', [True, True, False, False, False, False, ''], '', '', '', 1, [29]],\n",
              " ['P',\n",
              "  [False, False, False, False, False, False, ''],\n",
              "  'b3',\n",
              "  '',\n",
              "  'b3',\n",
              "  0,\n",
              "  [0, 1, 2, 3, 4, 5, 6, 7]],\n",
              " ['Q',\n",
              "  [False, False, False, False, False, False, ''],\n",
              "  'g6',\n",
              "  '',\n",
              "  'g6',\n",
              "  1,\n",
              "  [28]],\n",
              " ['N',\n",
              "  [False, False, False, False, False, False, ''],\n",
              "  'c3',\n",
              "  '',\n",
              "  'c3',\n",
              "  0,\n",
              "  [9, 14]],\n",
              " ['P',\n",
              "  [False, False, False, False, False, False, ''],\n",
              "  'a5',\n",
              "  '',\n",
              "  'a5',\n",
              "  1,\n",
              "  [17, 18, 19, 20, 21, 22, 23, 24]],\n",
              " ['N',\n",
              "  [False, False, False, False, False, False, ''],\n",
              "  'b5',\n",
              "  '',\n",
              "  'b5',\n",
              "  0,\n",
              "  [9, 14]],\n",
              " ['N',\n",
              "  [False, False, False, False, False, False, ''],\n",
              "  'd4',\n",
              "  '',\n",
              "  'd4',\n",
              "  1,\n",
              "  [26, 31]],\n",
              " ['Q', [False, False, False, True, False, False, ''], 'f4', '', 'f4', 0, [11]],\n",
              " ['B',\n",
              "  [False, False, False, True, False, False, ''],\n",
              "  'h3',\n",
              "  '',\n",
              "  'h3',\n",
              "  1,\n",
              "  [27, 30]],\n",
              " ['P',\n",
              "  [False, False, False, False, False, False, ''],\n",
              "  'e5',\n",
              "  '',\n",
              "  'e5',\n",
              "  1,\n",
              "  [17, 18, 19, 20, 21, 22, 23, 24]],\n",
              " ['K',\n",
              "  [False, False, False, False, False, False, ''],\n",
              "  'b8',\n",
              "  '',\n",
              "  'b8',\n",
              "  1,\n",
              "  [29]],\n",
              " ['N',\n",
              "  [False, False, False, True, False, False, ''],\n",
              "  'd4',\n",
              "  '',\n",
              "  'd4',\n",
              "  0,\n",
              "  [9, 14]],\n",
              " ['Q', [False, False, False, True, False, False, ''], 'd3', '', 'd3', 1, [28]],\n",
              " ['Q',\n",
              "  [False, False, False, False, False, False, ''],\n",
              "  'f3',\n",
              "  '',\n",
              "  'f3',\n",
              "  0,\n",
              "  [11]],\n",
              " ['Q', [False, False, True, True, False, False, ''], 'd4', '', 'd4', 1, [28]],\n",
              " ['Q',\n",
              "  [False, False, False, False, False, False, ''],\n",
              "  'f2',\n",
              "  '',\n",
              "  'f2',\n",
              "  0,\n",
              "  [11]],\n",
              " ['Q', [False, False, False, True, False, False, ''], 'a1', '', 'a1', 1, [28]],\n",
              " ['P',\n",
              "  [False, False, False, False, False, False, ''],\n",
              "  'd4',\n",
              "  '',\n",
              "  'd4',\n",
              "  0,\n",
              "  [0, 1, 2, 3, 4, 5, 6, 7]],\n",
              " ['Q',\n",
              "  [False, False, False, False, False, False, ''],\n",
              "  'c3',\n",
              "  '',\n",
              "  'c3',\n",
              "  1,\n",
              "  [28]],\n",
              " ['P',\n",
              "  [False, False, False, True, False, False, ''],\n",
              "  'ed6',\n",
              "  'e',\n",
              "  'd6',\n",
              "  0,\n",
              "  [0, 1, 2, 3, 4, 5, 6, 7]],\n",
              " ['B',\n",
              "  [False, False, False, False, False, False, ''],\n",
              "  'h4',\n",
              "  '',\n",
              "  'h4',\n",
              "  1,\n",
              "  [27, 30]],\n",
              " ['B',\n",
              "  [False, False, False, False, False, False, ''],\n",
              "  'g5',\n",
              "  '',\n",
              "  'g5',\n",
              "  0,\n",
              "  [10, 13]],\n",
              " ['Q',\n",
              "  [False, False, True, True, False, False, ''],\n",
              "  'f7Be3',\n",
              "  'f',\n",
              "  'e3',\n",
              "  1,\n",
              "  [28]],\n",
              " ['R',\n",
              "  [False, False, False, False, False, False, ''],\n",
              "  'f2',\n",
              "  '',\n",
              "  'f2',\n",
              "  0,\n",
              "  [8, 15]],\n",
              " ['B',\n",
              "  [False, False, False, True, False, False, ''],\n",
              "  'e3',\n",
              "  '',\n",
              "  'e3',\n",
              "  1,\n",
              "  [27, 30]],\n",
              " ['Q', [False, False, True, True, False, False, ''], 'e3', '', 'e3', 0, [11]],\n",
              " ['R',\n",
              "  [False, False, False, False, False, False, ''],\n",
              "  'f2',\n",
              "  '',\n",
              "  'f2',\n",
              "  0,\n",
              "  [8, 15]],\n",
              " ['Q', [False, False, True, False, False, False, ''], 'e1', '', 'e1', 0, [11]],\n",
              " ['R',\n",
              "  [False, False, False, False, False, False, ''],\n",
              "  'f1',\n",
              "  '',\n",
              "  'f1',\n",
              "  1,\n",
              "  [25, 32]],\n",
              " ['Q',\n",
              "  [False, False, False, False, False, False, ''],\n",
              "  'h4',\n",
              "  '',\n",
              "  'h4',\n",
              "  0,\n",
              "  [11]],\n",
              " ['Q',\n",
              "  [False, False, False, False, False, False, ''],\n",
              "  'd5',\n",
              "  '',\n",
              "  'd5',\n",
              "  1,\n",
              "  [28]],\n",
              " ['R',\n",
              "  [False, False, False, False, False, False, ''],\n",
              "  'e8',\n",
              "  '',\n",
              "  'e8',\n",
              "  0,\n",
              "  [8, 15]],\n",
              " ['Q',\n",
              "  [False, False, False, False, False, False, ''],\n",
              "  'f3',\n",
              "  '',\n",
              "  'f3',\n",
              "  0,\n",
              "  [11]],\n",
              " ['R',\n",
              "  [False, False, False, False, False, False, ''],\n",
              "  'e1',\n",
              "  '',\n",
              "  'e1',\n",
              "  0,\n",
              "  [8, 15]],\n",
              " ['P',\n",
              "  [False, False, False, False, False, False, ''],\n",
              "  'b4',\n",
              "  '',\n",
              "  'b4',\n",
              "  1,\n",
              "  [17, 18, 19, 20, 21, 22, 23, 24]],\n",
              " ['N',\n",
              "  [False, False, False, False, False, False, ''],\n",
              "  'f6',\n",
              "  '',\n",
              "  'f6',\n",
              "  0,\n",
              "  [9, 14]],\n",
              " ['Q', [False, False, True, False, False, False, ''], 'f8', '', 'f8', 1, [28]],\n",
              " ['K',\n",
              "  [False, False, False, False, False, False, ''],\n",
              "  'a7',\n",
              "  '',\n",
              "  'a7',\n",
              "  0,\n",
              "  [12]],\n",
              " ['P',\n",
              "  [False, False, False, True, False, False, ''],\n",
              "  'dc7',\n",
              "  'd',\n",
              "  'c7',\n",
              "  1,\n",
              "  [17, 18, 19, 20, 21, 22, 23, 24]],\n",
              " ['N',\n",
              "  [False, False, False, False, False, False, ''],\n",
              "  'f6',\n",
              "  '',\n",
              "  'f6',\n",
              "  0,\n",
              "  [9, 14]],\n",
              " ['Q', [False, False, True, False, False, False, ''], 'b8', '', 'b8', 1, [28]],\n",
              " ['R',\n",
              "  [False, False, False, True, False, False, ''],\n",
              "  'b8',\n",
              "  '',\n",
              "  'b8',\n",
              "  0,\n",
              "  [8, 15]],\n",
              " ['P',\n",
              "  [False, False, True, True, False, True, 'Q'],\n",
              "  'cb8',\n",
              "  'c',\n",
              "  'b8',\n",
              "  1,\n",
              "  [17, 18, 19, 20, 21, 22, 23, 24]],\n",
              " ['K', [False, False, False, True, False, False, ''], 'b8', '', 'b8', 0, [12]],\n",
              " ['R',\n",
              "  [False, False, False, True, False, False, ''],\n",
              "  'e1',\n",
              "  '',\n",
              "  'e1',\n",
              "  1,\n",
              "  [25, 32]],\n",
              " ['Q', [False, False, False, True, True, False, ''], 'e1', '', 'e1', 0, [11]]]"
            ]
          },
          "metadata": {},
          "execution_count": 9
        }
      ]
    },
    {
      "cell_type": "markdown",
      "metadata": {
        "id": "e5EuwM2OJKpi"
      },
      "source": [
        "Peices Logic"
      ]
    },
    {
      "cell_type": "markdown",
      "source": [
        "Updating the board after analysing the move's validity. "
      ],
      "metadata": {
        "id": "5eUHqIwhWx-3"
      }
    },
    {
      "cell_type": "code",
      "metadata": {
        "colab": {
          "base_uri": "https://localhost:8080/"
        },
        "id": "SRXGQsi-hSyp",
        "outputId": "36ebc982-c41c-4018-c78e-05341c1245d1"
      },
      "source": [
        "record = Decoded[3]\n",
        "E=[record[4][0],int(record[4][1])]\n",
        "B = 'nopqbstuvwxyz<m>:9ABCTEFG12345678'\n",
        "ind = 0\n",
        "\n",
        "if record[0] == 'P' :\n",
        "  #\n",
        "  if(record[1][0] or record[1][2] or record[1][3] or record[1][4]):\n",
        "    print('Not Movement')\n",
        "  else:\n",
        "    min = 8\n",
        "    ind=0\n",
        "    \n",
        "    for i in range(0,len(record[6])):\n",
        "      S = [Board.columns[int(RevPos.index(B[record[6][i]])%8)],Board.index[int(RevPos.index(B[record[6][i]])/8)]]           #Determining the distance between pieces to determine the actual pawn moved\n",
        "      D=((list(Board.columns).index(E[0])-list(Board.columns).index(S[0]))**2 + (list(Board.index).index(E[1])-list(Board.index).index(S[1]))**2)**0.5   \n",
        "      if min > D :\n",
        "        min = D\n",
        "        ind = i\n",
        "elif record[0] == 'N' :                                # coding Logic for night \n",
        "  Col = Board.loc[E[1],E[0].capitalize()]\n",
        "  if (Col == 'W'):\n",
        "    Req = 'B'\n",
        "  else:\n",
        "    Req = 'W'\n",
        "  \n",
        "  Colos = []\n",
        "  for i in range(0,len(record[6])):\n",
        "    S = [Board.columns[int(RevPos.index(B[record[6][i]])%8)],Board.index[int(RevPos.index(B[record[6][i]])/8)]]\n",
        "    PC = Board.loc[S[1],S[0].capitalize()]\n",
        "    Colos.append(PC)\n",
        "  \n",
        "  if Colos.count(Req) == 1:\n",
        "    i = Colos.index(Req)\n",
        "    ind = i #record[6][i]\n",
        "  else:\n",
        "    print('More than 1 knight')\n",
        "\n",
        "elif record[0] =='R' :\n",
        "  for i in range(0,record[6]):\n",
        "    S = [Board.columns[int(RevPos.index(B[record[6][i]])%8)],Board.index[int(RevPos.index(B[record[6][i]])/8)]]\n",
        "\n",
        "elif record[0] =='Q' :\n",
        "  P=[]\n",
        "  for i in range(0,len(record[6])):\n",
        "    S = [Board.columns[int(RevPos.index(B[record[6][i]])%8)],Board.index[int(RevPos.index(B[record[6][i]])/8)]]\n",
        "    Diff = [(list(Board.columns).index(E[0])-list(Board.columns).index(S[0]))**2 , (list(Board.index).index(E[1])-list(Board.index).index(S[1]))**2]\n",
        "    if(0 in Diff  or Diff[0]==Diff[1]):\n",
        "      P.append(i)\n",
        "  if (len(P)==1):\n",
        "    ind=0\n",
        "  elif len(record[3])>0:\n",
        "    S = [Board.columns[int(RevPos.index(B[record[3]])%8)],Board.index[int(RevPos.index(B[record[3]])/8)]]\n",
        "\n",
        "else :\n",
        "  print('new peice')\n",
        "\n",
        "ind\n"
      ],
      "execution_count": null,
      "outputs": [
        {
          "output_type": "execute_result",
          "data": {
            "text/plain": [
              "0"
            ]
          },
          "metadata": {},
          "execution_count": 78
        }
      ]
    },
    {
      "cell_type": "code",
      "metadata": {
        "id": "LArKf1LAtPjk"
      },
      "source": [
        "Current_Board=B[:record[6][ind]]+Board.loc[E[1],E[0]]+B[record[6][ind]+1:]"
      ],
      "execution_count": null,
      "outputs": []
    },
    {
      "cell_type": "code",
      "metadata": {
        "colab": {
          "base_uri": "https://localhost:8080/",
          "height": 35
        },
        "id": "Qn9RGkYWtQgd",
        "outputId": "7b415564-849c-4232-ce51-97ece6c8e039"
      },
      "source": [
        "Current_Board"
      ],
      "execution_count": null,
      "outputs": [
        {
          "output_type": "execute_result",
          "data": {
            "application/vnd.google.colaboratory.intrinsic+json": {
              "type": "string"
            },
            "text/plain": [
              "'nopqbstuvwxyz<m>:9ABCTEFG123V5678'"
            ]
          },
          "metadata": {},
          "execution_count": 80
        }
      ]
    },
    {
      "cell_type": "markdown",
      "metadata": {
        "id": "_wzZ8-tB6JH_"
      },
      "source": [
        "#Rough Work"
      ]
    },
    {
      "cell_type": "code",
      "metadata": {
        "colab": {
          "base_uri": "https://localhost:8080/"
        },
        "id": "ua8fVcn-_XWx",
        "outputId": "5164b3e8-ed7e-4487-ae12-9a45052b2de5"
      },
      "source": [
        "record"
      ],
      "execution_count": null,
      "outputs": [
        {
          "output_type": "execute_result",
          "data": {
            "text/plain": [
              "['Q', [False, False, False, False, False, False, ''], 'g5', '', 'g5', 1, [28]]"
            ]
          },
          "metadata": {},
          "execution_count": 41
        }
      ]
    },
    {
      "cell_type": "code",
      "metadata": {
        "id": "S1DGaTOBcy0V",
        "colab": {
          "base_uri": "https://localhost:8080/",
          "height": 300
        },
        "outputId": "7711673c-7614-46ed-af0b-4551a89dfa15"
      },
      "source": [
        "Board"
      ],
      "execution_count": null,
      "outputs": [
        {
          "output_type": "execute_result",
          "data": {
            "text/html": [
              "<div>\n",
              "<style scoped>\n",
              "    .dataframe tbody tr th:only-of-type {\n",
              "        vertical-align: middle;\n",
              "    }\n",
              "\n",
              "    .dataframe tbody tr th {\n",
              "        vertical-align: top;\n",
              "    }\n",
              "\n",
              "    .dataframe thead th {\n",
              "        text-align: right;\n",
              "    }\n",
              "</style>\n",
              "<table border=\"1\" class=\"dataframe\">\n",
              "  <thead>\n",
              "    <tr style=\"text-align: right;\">\n",
              "      <th></th>\n",
              "      <th>a</th>\n",
              "      <th>b</th>\n",
              "      <th>c</th>\n",
              "      <th>d</th>\n",
              "      <th>e</th>\n",
              "      <th>f</th>\n",
              "      <th>g</th>\n",
              "      <th>h</th>\n",
              "      <th>A</th>\n",
              "      <th>B</th>\n",
              "      <th>C</th>\n",
              "      <th>D</th>\n",
              "      <th>E</th>\n",
              "      <th>F</th>\n",
              "      <th>G</th>\n",
              "      <th>H</th>\n",
              "    </tr>\n",
              "  </thead>\n",
              "  <tbody>\n",
              "    <tr>\n",
              "      <th>8</th>\n",
              "      <td>1</td>\n",
              "      <td>2</td>\n",
              "      <td>3</td>\n",
              "      <td>4</td>\n",
              "      <td>5</td>\n",
              "      <td>6</td>\n",
              "      <td>7</td>\n",
              "      <td>8</td>\n",
              "      <td>W</td>\n",
              "      <td>B</td>\n",
              "      <td>W</td>\n",
              "      <td>B</td>\n",
              "      <td>W</td>\n",
              "      <td>B</td>\n",
              "      <td>W</td>\n",
              "      <td>B</td>\n",
              "    </tr>\n",
              "    <tr>\n",
              "      <th>7</th>\n",
              "      <td>9</td>\n",
              "      <td>A</td>\n",
              "      <td>B</td>\n",
              "      <td>C</td>\n",
              "      <td>D</td>\n",
              "      <td>E</td>\n",
              "      <td>F</td>\n",
              "      <td>G</td>\n",
              "      <td>B</td>\n",
              "      <td>W</td>\n",
              "      <td>B</td>\n",
              "      <td>W</td>\n",
              "      <td>B</td>\n",
              "      <td>W</td>\n",
              "      <td>B</td>\n",
              "      <td>W</td>\n",
              "    </tr>\n",
              "    <tr>\n",
              "      <th>6</th>\n",
              "      <td>H</td>\n",
              "      <td>I</td>\n",
              "      <td>J</td>\n",
              "      <td>K</td>\n",
              "      <td>L</td>\n",
              "      <td>M</td>\n",
              "      <td>N</td>\n",
              "      <td>O</td>\n",
              "      <td>W</td>\n",
              "      <td>B</td>\n",
              "      <td>W</td>\n",
              "      <td>B</td>\n",
              "      <td>W</td>\n",
              "      <td>B</td>\n",
              "      <td>W</td>\n",
              "      <td>B</td>\n",
              "    </tr>\n",
              "    <tr>\n",
              "      <th>5</th>\n",
              "      <td>P</td>\n",
              "      <td>Q</td>\n",
              "      <td>R</td>\n",
              "      <td>S</td>\n",
              "      <td>T</td>\n",
              "      <td>U</td>\n",
              "      <td>V</td>\n",
              "      <td>W</td>\n",
              "      <td>B</td>\n",
              "      <td>W</td>\n",
              "      <td>B</td>\n",
              "      <td>W</td>\n",
              "      <td>B</td>\n",
              "      <td>W</td>\n",
              "      <td>B</td>\n",
              "      <td>W</td>\n",
              "    </tr>\n",
              "    <tr>\n",
              "      <th>4</th>\n",
              "      <td>X</td>\n",
              "      <td>Y</td>\n",
              "      <td>Z</td>\n",
              "      <td>a</td>\n",
              "      <td>b</td>\n",
              "      <td>c</td>\n",
              "      <td>d</td>\n",
              "      <td>e</td>\n",
              "      <td>W</td>\n",
              "      <td>B</td>\n",
              "      <td>W</td>\n",
              "      <td>B</td>\n",
              "      <td>W</td>\n",
              "      <td>B</td>\n",
              "      <td>W</td>\n",
              "      <td>B</td>\n",
              "    </tr>\n",
              "    <tr>\n",
              "      <th>3</th>\n",
              "      <td>f</td>\n",
              "      <td>g</td>\n",
              "      <td>h</td>\n",
              "      <td>i</td>\n",
              "      <td>j</td>\n",
              "      <td>k</td>\n",
              "      <td>l</td>\n",
              "      <td>m</td>\n",
              "      <td>B</td>\n",
              "      <td>W</td>\n",
              "      <td>B</td>\n",
              "      <td>W</td>\n",
              "      <td>B</td>\n",
              "      <td>W</td>\n",
              "      <td>B</td>\n",
              "      <td>W</td>\n",
              "    </tr>\n",
              "    <tr>\n",
              "      <th>2</th>\n",
              "      <td>n</td>\n",
              "      <td>o</td>\n",
              "      <td>p</td>\n",
              "      <td>q</td>\n",
              "      <td>r</td>\n",
              "      <td>s</td>\n",
              "      <td>t</td>\n",
              "      <td>u</td>\n",
              "      <td>W</td>\n",
              "      <td>B</td>\n",
              "      <td>W</td>\n",
              "      <td>B</td>\n",
              "      <td>W</td>\n",
              "      <td>B</td>\n",
              "      <td>W</td>\n",
              "      <td>B</td>\n",
              "    </tr>\n",
              "    <tr>\n",
              "      <th>1</th>\n",
              "      <td>v</td>\n",
              "      <td>w</td>\n",
              "      <td>x</td>\n",
              "      <td>y</td>\n",
              "      <td>z</td>\n",
              "      <td>&lt;</td>\n",
              "      <td>^</td>\n",
              "      <td>&gt;</td>\n",
              "      <td>B</td>\n",
              "      <td>W</td>\n",
              "      <td>B</td>\n",
              "      <td>W</td>\n",
              "      <td>B</td>\n",
              "      <td>W</td>\n",
              "      <td>B</td>\n",
              "      <td>W</td>\n",
              "    </tr>\n",
              "  </tbody>\n",
              "</table>\n",
              "</div>"
            ],
            "text/plain": [
              "   a  b  c  d  e  f  g  h  A  B  C  D  E  F  G  H\n",
              "8  1  2  3  4  5  6  7  8  W  B  W  B  W  B  W  B\n",
              "7  9  A  B  C  D  E  F  G  B  W  B  W  B  W  B  W\n",
              "6  H  I  J  K  L  M  N  O  W  B  W  B  W  B  W  B\n",
              "5  P  Q  R  S  T  U  V  W  B  W  B  W  B  W  B  W\n",
              "4  X  Y  Z  a  b  c  d  e  W  B  W  B  W  B  W  B\n",
              "3  f  g  h  i  j  k  l  m  B  W  B  W  B  W  B  W\n",
              "2  n  o  p  q  r  s  t  u  W  B  W  B  W  B  W  B\n",
              "1  v  w  x  y  z  <  ^  >  B  W  B  W  B  W  B  W"
            ]
          },
          "metadata": {},
          "execution_count": 13
        }
      ]
    },
    {
      "cell_type": "code",
      "metadata": {
        "colab": {
          "base_uri": "https://localhost:8080/"
        },
        "id": "gFA3cEcxHY42",
        "outputId": "f6d23e59-173c-475e-b6d4-eef90a232cec"
      },
      "source": [
        "Positions=[]\n",
        "start_ind=0\n",
        "for i in range(0,PeiceRank[0].count('R')):\n",
        "  Positions.append(PeiceRank[0].index('R',start_ind))\n",
        "  start_ind=PeiceRank[0].index('R',start_ind)+1\n",
        "\n",
        "Positions"
      ],
      "execution_count": null,
      "outputs": [
        {
          "output_type": "execute_result",
          "data": {
            "text/plain": [
              "[8, 15]"
            ]
          },
          "metadata": {},
          "execution_count": 7
        }
      ]
    },
    {
      "cell_type": "code",
      "metadata": {
        "id": "_krTMVOzF7t_"
      },
      "source": [
        "T = Moves.split(' ')"
      ],
      "execution_count": null,
      "outputs": []
    },
    {
      "cell_type": "code",
      "metadata": {
        "id": "tgla-3A_cszX"
      },
      "source": [
        "a = T[12]"
      ],
      "execution_count": null,
      "outputs": []
    },
    {
      "cell_type": "code",
      "metadata": {
        "colab": {
          "base_uri": "https://localhost:8080/"
        },
        "id": "kYfL9TftcvsN",
        "outputId": "ec230b7c-83cb-4e20-f2c8-9c6d1db7ddeb"
      },
      "source": [
        "T.index(a)"
      ],
      "execution_count": null,
      "outputs": [
        {
          "output_type": "execute_result",
          "data": {
            "text/plain": [
              "12"
            ]
          },
          "metadata": {},
          "execution_count": 12
        }
      ]
    },
    {
      "cell_type": "code",
      "metadata": {
        "colab": {
          "base_uri": "https://localhost:8080/"
        },
        "id": "EAE2U7IMa3eP",
        "outputId": "91c39793-86c8-4b02-c8d4-80965fbabcb4"
      },
      "source": [
        "tester='q'\n",
        "[Board.columns[int(RevPos.index(tester)%8)],Board.index[int(RevPos.index(tester)/8)]]"
      ],
      "execution_count": null,
      "outputs": [
        {
          "output_type": "execute_result",
          "data": {
            "text/plain": [
              "['d', 2]"
            ]
          },
          "metadata": {},
          "execution_count": 14
        }
      ]
    },
    {
      "cell_type": "code",
      "metadata": {
        "colab": {
          "base_uri": "https://localhost:8080/"
        },
        "id": "aAplGn-t9qub",
        "outputId": "de75e018-8091-4a92-f9a2-4c3933dca441"
      },
      "source": [
        "Decoded[0]"
      ],
      "execution_count": null,
      "outputs": [
        {
          "output_type": "execute_result",
          "data": {
            "text/plain": [
              "['P',\n",
              " [False, False, False, False, False, False, ''],\n",
              " 'e4',\n",
              " '',\n",
              " 'e4',\n",
              " 0,\n",
              " [0, 1, 2, 3, 4, 5, 6, 7]]"
            ]
          },
          "metadata": {},
          "execution_count": 15
        }
      ]
    },
    {
      "cell_type": "code",
      "metadata": {
        "colab": {
          "base_uri": "https://localhost:8080/"
        },
        "id": "L5DoOK2x9Vry",
        "outputId": "30029390-e0cf-4f6a-8f14-12ae36b56811"
      },
      "source": [
        "ind"
      ],
      "execution_count": null,
      "outputs": [
        {
          "output_type": "execute_result",
          "data": {
            "text/plain": [
              "4"
            ]
          },
          "metadata": {},
          "execution_count": 17
        }
      ]
    },
    {
      "cell_type": "code",
      "metadata": {
        "colab": {
          "base_uri": "https://localhost:8080/",
          "height": 35
        },
        "id": "VlZhlohDMzPX",
        "outputId": "838bcce1-d425-4d4e-9ef7-781daf34252d"
      },
      "source": [
        "'a'.capitalize()"
      ],
      "execution_count": null,
      "outputs": [
        {
          "output_type": "execute_result",
          "data": {
            "application/vnd.google.colaboratory.intrinsic+json": {
              "type": "string"
            },
            "text/plain": [
              "'A'"
            ]
          },
          "metadata": {},
          "execution_count": 27
        }
      ]
    },
    {
      "cell_type": "code",
      "metadata": {
        "colab": {
          "base_uri": "https://localhost:8080/"
        },
        "id": "700MtW7oL31N",
        "outputId": "7df041cc-068c-4a0d-8657-969ce02c9f2a"
      },
      "source": [
        "Moves.split()"
      ],
      "execution_count": null,
      "outputs": [
        {
          "output_type": "execute_result",
          "data": {
            "text/plain": [
              "['e4',\n",
              " 'e5',\n",
              " 'Nh3',\n",
              " 'Qg5',\n",
              " 'Bd3',\n",
              " 'Be7',\n",
              " 'O-O',\n",
              " 'Nc6',\n",
              " 'a4',\n",
              " 'd6',\n",
              " 'f4',\n",
              " 'exf4',\n",
              " 'c4',\n",
              " 'Be6',\n",
              " 'Qf3',\n",
              " 'O-O-O',\n",
              " 'b3',\n",
              " 'Qg6',\n",
              " 'Nc3',\n",
              " 'a5',\n",
              " 'Nb5',\n",
              " 'Nd4',\n",
              " 'Qxf4',\n",
              " 'Bxh3',\n",
              " 'e5',\n",
              " 'Kb8',\n",
              " 'Nxd4',\n",
              " 'Qxd3',\n",
              " 'Qf3',\n",
              " 'Qxd4+',\n",
              " 'Qf2',\n",
              " 'Qxa1',\n",
              " 'd4',\n",
              " 'Qc3',\n",
              " 'exd6',\n",
              " 'Bh4',\n",
              " 'Bg5',\n",
              " 'Qxf7Be3+',\n",
              " 'Rf2',\n",
              " 'Bxe3',\n",
              " 'Qxe3+',\n",
              " 'Rf2',\n",
              " 'Qe1+',\n",
              " 'Rf1',\n",
              " 'Qh4',\n",
              " 'Qd5',\n",
              " 'Re8',\n",
              " 'Qf3',\n",
              " 'Re1',\n",
              " 'b4',\n",
              " 'Nf6',\n",
              " 'Qf8+',\n",
              " 'Ka7',\n",
              " 'dxc7',\n",
              " 'Nf6',\n",
              " 'Qb8+',\n",
              " 'Rxb8',\n",
              " 'cxb8=Q+',\n",
              " 'Kxb8',\n",
              " 'Rxe1',\n",
              " 'Qxe1#']"
            ]
          },
          "metadata": {},
          "execution_count": 61
        }
      ]
    },
    {
      "cell_type": "code",
      "metadata": {
        "id": "a9pf2OC8-wYG"
      },
      "source": [
        "PGN = ''\n",
        "n=0\n",
        "M=Moves.split(' ')\n",
        "for i in range(0,len(M),2):\n",
        "  if(i+1 < len(M)):\n",
        "    P = str(n+1)+'.'+M[i]+' '+M[i+1]+' '\n",
        "  else:\n",
        "    P = str(n+1)+'.'+M[i]\n",
        "  PGN+=P\n",
        "  n+=1"
      ],
      "execution_count": null,
      "outputs": []
    },
    {
      "cell_type": "code",
      "metadata": {
        "colab": {
          "base_uri": "https://localhost:8080/",
          "height": 105
        },
        "id": "T9xdINUaLdFQ",
        "outputId": "8aa2e721-fcea-4f5c-8a8e-1806769b32cf"
      },
      "source": [
        "PGN"
      ],
      "execution_count": null,
      "outputs": [
        {
          "output_type": "execute_result",
          "data": {
            "application/vnd.google.colaboratory.intrinsic+json": {
              "type": "string"
            },
            "text/plain": [
              "'1.e4 e5 2.Nh3 Qg5 3.Bd3 Be7 4.O-O Nc6 5.a4 d6 6.f4 exf4 7.c4 Be6 8.Qf3 O-O-O 9.b3 Qg6 10.Nc3 a5 11.Nb5 Nd4 12.Qxf4 Bxh3 13.e5 Kb8 14.Nxd4 Qxd3 15.Qf3 Qxd4+ 16.Qf2 Qxa1 17.d4 Qc3 18.exd6 Bh4 19.Bg5 Qxf7Be3+ 20.Rf2 Bxe3 21.Qxe3+ Rf2 22.Qe1+ Rf1 23.Qh4 Qd5 24.Re8 Qf3 25.Re1 b4 26.Nf6 Qf8+ 27.Ka7 dxc7 28.Nf6 Qb8+ 29.Rxb8 cxb8=Q+ 30.Kxb8 Rxe1 31.Qxe1#'"
            ]
          },
          "metadata": {},
          "execution_count": 76
        }
      ]
    },
    {
      "cell_type": "code",
      "metadata": {
        "id": "mXskVuAtLdy3"
      },
      "source": [
        ""
      ],
      "execution_count": null,
      "outputs": []
    }
  ]
}