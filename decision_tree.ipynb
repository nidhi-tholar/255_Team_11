{
 "cells": [
  {
   "cell_type": "code",
   "execution_count": 5,
   "id": "d3a924bd",
   "metadata": {},
   "outputs": [],
   "source": [
    "import pandas as pd\n",
    "\n",
    "from sklearn.tree import DecisionTreeClassifier\n",
    "from sklearn import metrics, tree\n",
    "import matplotlib.pyplot as plt\n",
    "import sklearn"
   ]
  },
  {
   "cell_type": "code",
   "execution_count": 6,
   "id": "3011752e",
   "metadata": {},
   "outputs": [
    {
     "name": "stdout",
     "output_type": "stream",
     "text": [
      "35807\n"
     ]
    }
   ],
   "source": [
    "\n",
    "df = pd.read_csv('data/output/output.csv')\n",
    "print(len(df))"
   ]
  },
  {
   "cell_type": "code",
   "execution_count": 7,
   "id": "d0bb8bd0",
   "metadata": {},
   "outputs": [
    {
     "name": "stdout",
     "output_type": "stream",
     "text": [
      "sicilian_rossolimo        18417\n",
      "caro_kann_classic          8107\n",
      "four_knights               7381\n",
      "sicilian_dragon_other6      980\n",
      "qid4e3                      922\n",
      "Name: Opening, dtype: int64\n"
     ]
    }
   ],
   "source": [
    "print(df['Opening'].value_counts())"
   ]
  },
  {
   "cell_type": "code",
   "execution_count": null,
   "id": "67980c5c",
   "metadata": {},
   "outputs": [],
   "source": [
    "df.replace({'Opening': {'sicilian_rossolimo':1, 'caro_kann_classic':2, 'sicilian_dragon_other6':3, 'four_knights':4, 'qid4e3':5}}, inplace=True)\n",
    "df.replace({'game_result': {'draw':0, 'white':1, 'black':2}}, inplace=True)"
   ]
  },
  {
   "cell_type": "code",
   "execution_count": null,
   "id": "2abc33cc",
   "metadata": {},
   "outputs": [],
   "source": [
    "### Decision Tree"
   ]
  },
  {
   "cell_type": "code",
   "execution_count": null,
   "id": "381f311d",
   "metadata": {},
   "outputs": [],
   "source": [
    "def prep_training(df, first_n_moves):\n",
    "    \n",
    "    x = df[['WhiteElo', 'BlackElo', 'Opening']]\n",
    "    y = df.iloc[:, 10]\n",
    "    print(\"__________________________________________\")\n",
    "    print(\"Shape of x: \", x.shape)\n",
    "    print(\"Shape of y: \", y.shape)\n",
    "   \n",
    "    return sklearn.model_selection.train_test_split(x, y, test_size=0.2)"
   ]
  },
  {
   "cell_type": "code",
   "execution_count": null,
   "id": "8701510c",
   "metadata": {},
   "outputs": [],
   "source": [
    "x_train, x_test, y_train, y_test = prep_training(df, 4)\n",
    "print(\"*********\")\n",
    "print(x_train, x_test, y_train, y_test)"
   ]
  },
  {
   "cell_type": "code",
   "execution_count": null,
   "id": "992cd357",
   "metadata": {},
   "outputs": [],
   "source": [
    "def build_decision_tree():\n",
    "    \n",
    "\n",
    "    #  1. create a model\n",
    "    clf = DecisionTreeClassifier(max_depth =12) #max_depth = depth\n",
    "\n",
    "    #  2. feed training data into the model\n",
    "    clf = clf.fit(x_train,y_train)\n",
    "\n",
    "    #  3. predict values for your test data\n",
    "    y_pred = clf.predict(x_test)\n",
    "    \n",
    "    #class_n = ['result']\n",
    "    plt.figure(figsize=(12,12))  # set plot size\n",
    "    class_n = ['draw', 'white', 'black']\n",
    "    tree.plot_tree(clf, filled = True, fontsize=10,rounded=True,class_names=class_n);\n",
    "    plt.show()\n",
    "\n",
    "    #  5. find the training and testing accuracy\n",
    "    print(\"Accuracy:\", metrics.accuracy_score(y_test, y_pred))"
   ]
  },
  {
   "cell_type": "code",
   "execution_count": null,
   "id": "1dcaa620",
   "metadata": {},
   "outputs": [],
   "source": [
    "start = time.time()\n",
    "build_decision_tree()\n",
    "end = time.time()\n",
    "print('\\nTime:')\n",
    "print(end - start)"
   ]
  },
  {
   "cell_type": "code",
   "execution_count": null,
   "id": "56353ca8",
   "metadata": {},
   "outputs": [],
   "source": [
    "npData = df.to_numpy()\n",
    "\n",
    "firstXDict = {}\n",
    "\n",
    "for sampleIndex in range(len(npData)):\n",
    "    moves = npData[sampleIndex][7] # index of  moves\n",
    "    movesList = moves.split()\n",
    "    \n",
    "    #firstTwo = \" \".join(movesList[0:4]) # Moves 0, 1 \n",
    "    firstX = \" \".join(movesList[0:20]) \n",
    "        \n",
    "    if firstX in firstXDict.keys():\n",
    "        firstXDict[firstX].append(sampleIndex)\n",
    "    else:\n",
    "        firstXDict[firstX] = [sampleIndex]\n",
    "\n",
    "\n"
   ]
  },
  {
   "cell_type": "code",
   "execution_count": null,
   "id": "e2a4ff19",
   "metadata": {},
   "outputs": [],
   "source": [
    "from sklearn.tree import DecisionTreeClassifier\n",
    "from sklearn import metrics, tree\n",
    "import matplotlib.pyplot as plt\n",
    "\n",
    "\n",
    "for key in firstXDict.keys():\n",
    "    \n",
    "    if len(firstXDict[key]) >= 2:\n",
    "\n",
    "        trainingIndices = firstXDict[key][0:(int)(len(firstXDict[key]) * 0.8)]\n",
    "        testingIndices = firstXDict[key][len(trainingIndices):len(firstXDict[key])]\n",
    "        \n",
    "        print(\"Key: \", key)\n",
    "        print(\"Key length: \",len(firstXDict[key]))\n",
    "        \n",
    "            \n",
    "        x = df[['WhiteElo', 'BlackElo', 'Opening']]\n",
    "        y = df.iloc[:, 10]\n",
    "        print(\"__________________________________________\")\n",
    "        print(\"Shape of x: \", x.shape)\n",
    "        print(\"Shape of y: \", y.shape)\n",
    "   \n",
    "        x_train, x_test, y_train, y_test = sklearn.model_selection.train_test_split(x, y, test_size=0.2)\n",
    "        clf = DecisionTreeClassifier(max_depth=12)\n",
    "        clf.fit(x_train, y_train)\n",
    "\n",
    "        y_pred = clf.predict(x_test)\n",
    "\n",
    "        \n",
    "        print(\"Accuracy: \", metrics.accuracy_score(y_test, y_pred))\n",
    "        \n",
    "#         plt.figure(figsize=(12,12))  # set plot size\n",
    "#         class_n = ['draw', 'white', 'black']\n",
    "#         feature_cols = ['white_elo', 'black_elo', 'opening']\n",
    "#         tree.plot_tree(clf, filled = True, fontsize=10,rounded=True,class_names=class_n, feature_names = feature_cols);\n",
    "#         plt.show()\n",
    "\n"
   ]
  }
 ],
 "metadata": {
  "kernelspec": {
   "display_name": "Python 3",
   "language": "python",
   "name": "python3"
  },
  "language_info": {
   "codemirror_mode": {
    "name": "ipython",
    "version": 3
   },
   "file_extension": ".py",
   "mimetype": "text/x-python",
   "name": "python",
   "nbconvert_exporter": "python",
   "pygments_lexer": "ipython3",
   "version": "3.8.8"
  }
 },
 "nbformat": 4,
 "nbformat_minor": 5
}
