{
 "cells": [
  {
   "cell_type": "markdown",
   "id": "ed38febd",
   "metadata": {},
   "source": [
    "##### Run instruction: Cell -> Run all\n",
    "#### My 5 openings: four_knights, caro_kann_classic, qid4e3, sicilian_rossolimo, sicilian_dragon_other6"
   ]
  },
  {
   "cell_type": "markdown",
   "id": "bfac3f2d",
   "metadata": {},
   "source": [
    "### Importing required libraries"
   ]
  },
  {
   "cell_type": "code",
   "execution_count": 61,
   "id": "57d84a90",
   "metadata": {},
   "outputs": [],
   "source": [
    "import pandas as pd\n",
    "import numpy as np\n",
    "import matplotlib.pyplot as plt"
   ]
  },
  {
   "cell_type": "markdown",
   "id": "5ee19b9e",
   "metadata": {},
   "source": [
    "### Openings and their mapping to moves and files"
   ]
  },
  {
   "cell_type": "code",
   "execution_count": 62,
   "id": "a0ef88da",
   "metadata": {},
   "outputs": [],
   "source": [
    "opening_moves = {\n",
    "    'sicilian_dragon_other6': {'moves': 'e4 c5 Nf3 d6 d4 cxd4 Nxd4 Nf6 Nc3 g6','number_of_moves': 10}, \n",
    "         'caro_kann_classic': {'moves': 'e4 c6 d4 d5 Nc3 dxe4 Nxe4 Bf5', 'number_of_moves': 8}, \n",
    "                    'qid4e3': {'moves': 'd4 Nf6 c4 e6 Nf3 b6 e3', 'number_of_moves': 7}, \n",
    "              'four_knights': {'moves': 'e4 e5 Nf3 Nc6 Nc3 Nf6', 'number_of_moves': 6}, \n",
    "        'sicilian_rossolimo': {'moves': 'e4 c5 Nf3 Nc6 Bb5','number_of_moves': 5}, \n",
    "            }\n",
    "\n",
    "# (sorted(opening_moves.items(), key = lambda x: x[1]['number_of_moves'], reverse=True))\n",
    "\n",
    "name_of_opening = {'e4 c5 Nf3 d6 d4 cxd4 Nxd4 Nf6 Nc3 g6': 'sicilian_dragon_other6',\n",
    "                  'e4 c6 d4 d5 Nc3 dxe4 Nxe4 Bf5': 'caro_kann_classic',\n",
    "                  'd4 Nf6 c4 e6 Nf3 b6 e3': 'qid4e3',\n",
    "                   'e4 e5 Nf3 Nc6 Nc3 Nf6': 'four_knights',\n",
    "                   'e4 c5 Nf3 Nc6 Bb5': 'sicilian_rossolimo',\n",
    "                  }\n",
    "\n",
    "opening_patterns = list(name_of_opening.keys())\n",
    "\n",
    "possible_no_of_moves_in_an_opening = [10,8,7,6,5]\n"
   ]
  },
  {
   "cell_type": "code",
   "execution_count": 63,
   "id": "c300b6bf",
   "metadata": {},
   "outputs": [],
   "source": [
    "opening_files = { 'four_knights':'FourKnights.txt', 'caro_kann_classic':'Caro-KannClassic.txt', 'qid4e3': 'QID4e3.txt',\n",
    "          'sicilian_rossolimo': 'SicilianRossolimo.txt', 'sicilian_dragon_other6':'SicilianDragonOther6.txt'}\n"
   ]
  },
  {
   "cell_type": "markdown",
   "id": "a144e8fd",
   "metadata": {},
   "source": [
    "### Data \n",
    "##### The data is in a txt file\n",
    "##### Each record(game) is separared by new line character (/n)\n",
    "#### And each game contains /n between Game details and moves"
   ]
  },
  {
   "cell_type": "markdown",
   "id": "466b84b3",
   "metadata": {},
   "source": [
    "How a single Game data looks:\n",
    "\n",
    "[Event \"DSB-11. Kongress\"] <br>\n",
    "[Site \"Koeln\"] <br>\n",
    "[Date \"1898.??.??\"] <br>\n",
    "[Round \"9\"] <br>\n",
    "[White \"Charousek, Rudolf Rezso\"] <br>\n",
    "[Black \"Von Popiel, Ignatz\"] <br>\n",
    "[Result \"1-0\"] <br>\n",
    "[WhiteElo \"\"] <br>\n",
    "[BlackElo \"\"] <br>\n",
    "[ECO \"B19\"] <br>\n",
    "\n",
    "1.e4 c6 2.d4 d5 3.Nc3 dxe4 4.Nxe4 Bf5 5.Ng3 Bg6 6.Nf3 e6 7.h4 h6 8.Bd3 Bxd3\n",
    "9.Qxd3 Nd7 10.Bf4 Ngf6 11.O-O-O Qa5 12.Kb1 O-O-O 13.Nf1 Be7 14.N1d2 Nc5 15.Qe2 Nd5\n",
    "16.dxc5 Nxf4 17.Qe4 Nd5 18.Ne5 Rhf8 19.Nxf7 Bf6 20.Nc4 Nc3+ 21.bxc3 Qxc3\n",
    "22.Nfe5 Rd5 23.Rxd5 cxd5 24.Qf3 Qb4+ 25.Nb2 Qxb2+ 26.Kxb2 Bxe5+ 27.Kb3 Rxf3+\n",
    "28.gxf3 Bd4 29.Rg1 Kd7 30.c3 Bf6 31.h5 Kc6 32.f4 Kxc5 33.Re1 Kd6 34.Kc2 b6\n",
    "35.Kd3 a5 36.a4 Kd7 37.f3 Kd6 38.Rb1 Kc7 39.c4 Kc6 40.Rb5 Be7 41.f5 dxc4+\n",
    "42.Kxc4 exf5 43.Rxf5 Bf6 44.f4 Kd6 45.Rb5 Kc6 46.f5 Bg5 47.Re5 Bf6 48.Re6+ Kc7\n",
    "49.Kb5 Bd4 50.Rc6+ Kd7 51.Rc4 Bc5 52.Rg4 Ke7 53.Rxg7+ Kf6 54.Rg6+ Kxf5 55.Rxh6  1-0"
   ]
  },
  {
   "cell_type": "markdown",
   "id": "538771f3",
   "metadata": {},
   "source": [
    "#### Code to Find Opening"
   ]
  },
  {
   "cell_type": "code",
   "execution_count": 64,
   "id": "eb169be9",
   "metadata": {},
   "outputs": [],
   "source": [
    "def find_opening(moves):\n",
    "    for num in possible_no_of_moves_in_an_opening:\n",
    "\n",
    "        firstXmoves = \" \".join((moves.split(' '))[0:num])\n",
    "        if firstXmoves in opening_patterns:\n",
    "            return name_of_opening[firstXmoves]\n",
    "\n",
    "    return 'unidentified' \n",
    "    \n"
   ]
  },
  {
   "cell_type": "markdown",
   "id": "877c8c20",
   "metadata": {},
   "source": [
    "### Testing \"find_opening\" function"
   ]
  },
  {
   "cell_type": "code",
   "execution_count": 65,
   "id": "92b26b8e",
   "metadata": {},
   "outputs": [
    {
     "name": "stdout",
     "output_type": "stream",
     "text": [
      "caro_kann_classic\n",
      "four_knights\n",
      "qid4e3\n",
      "sicilian_dragon_other6\n",
      "sicilian_rossolimo\n",
      "unidentified\n"
     ]
    }
   ],
   "source": [
    "movvv = ['e4 c6 d4 d5 Nc3 dxe4 Nxe4 Bf5 Ng3 Bg6 Bc4 e6 Nf3 Nd7 O-O Be7 Qe2 Ngf6 Bf4 Nd5 Bc1 O-O Bb3 a5 a3 Qb6 Rd1 Rfe8 Ne4 a4 Ba2 c5 c4 N5f6 Nxf6+ Bxf6 Be3 Rac8 Rd2 Bh5 dxc5 Nxc5 h3 Qa6 g4 Bg6 Nd4 Red8 g5 Be7 h4 e5 Nb5 Rxd2 Bxd2 Qe6 Nc3 Bd6 Nd5 Qh3 Qf1 Qxh4 Qg2 e4 Re1 Nd3 Re3 Qh5 f3 Nf4 Nxf4 Bxf4 Rc3 exf3 Rxf3 Bxd2 c5 Re8',\n",
    "         'e4 e5 Nf3 Nc6 Nc3 Nf6 d4 exd4 Nxd4 Bb4 Nxc6 bxc6 Bd3 d5 exd5 Qe7+ Qe2 Qxe2+ Kxe2 Nxd5 Bd2 Nxc3+',\n",
    "         'd4 Nf6 c4 e6 Nf3 b6 e3 Bb7 Bd3 Be7 O-O O-O b3 d5 Bb2 Nbd7 Nc3 c5 cxd5 Nxd5 Nxd5 Bxd5 Qe2 cxd4 Nxd4 Nc5 Bc4 Rc8',\n",
    "         'e4 c5 Nf3 d6 d4 cxd4 Nxd4 Nf6 Nc3 g6 g3 Nc6 Nde2 Bg7 Bg2 O-O O-O Bg4 h3 Bxe2 Qxe2 Rc8 Be3 Nd7 Nd1 Nd4 Bxd4 Bxd4 c3 Bg7 Ne3 Rc5 Rad1 b5 Rd5 Qb8 Rfd1 Re8 Rxc5 Nxc5 Nd5 a5 a3 e6 Ne3 b4 axb4 axb4 cxb4 Qxb4 Rxd6 Qxb2 Qc4 Rc8',\n",
    "         'e4 c5 Nf3 Nc6 Bb5 g6 O-O Nf6 Re1 Bg7 c3 a6 Bxc6 bxc6 e5 Nd5 d4 cxd4 c4 Nc7 Nxd4 c5 Nb3 Ne6 Nc3 Bb7 Nd5 d6 Nf4 O-O Nxe6 fxe6 Qg4 Rf5 Bf4 Qc7 Rad1 d5 cxd5 Bxd5 Bg3 Qc6 Rc1 Bxg2 Rxc5 Qb7 Na5 Qf3 Qxf3 Bxf3 Nc6 Rf7 b4 g5 a4 h5 h3 h4 Bh2 Bh6 b5 axb5 axb5 g4 b6 g3 fxg3 Ra1 Rxa1 Be3+ Kf1 Bxc6+ Ke1 Bxc5 Rc1 Bf2+ Kd2 Bd5 gxh4 Bxb6',\n",
    "         'Ng3 Bg6 Bc4 e6 Nf3 Nd7 O-O Be7 Qe2 Ngf6 Bf4 Nd5 Bc1 O-O Bb3 a5 a3 Qb6'\n",
    "        ]\n",
    "\n",
    "for item in movvv:\n",
    "    print(find_opening(item))\n",
    "\n",
    "# carokan 1\n",
    "#fourK - 2\n",
    "# QI - 3\n",
    "# SD - 4\n"
   ]
  },
  {
   "cell_type": "markdown",
   "id": "1a9e08fd",
   "metadata": {},
   "source": [
    "#### Code to Format Moves"
   ]
  },
  {
   "cell_type": "code",
   "execution_count": 66,
   "id": "a55d4f34",
   "metadata": {},
   "outputs": [],
   "source": [
    "import string, re\n",
    "def format_moves(moves):\n",
    "    #flag = False\n",
    "    \n",
    "    res = \"\"\n",
    "    x = moves.split('.')\n",
    "    for item in x[1:]:  \n",
    "        y = (item.split(' '))[:2]  \n",
    "            \n",
    "        if (len(y)) > 1 and len(y[1]) > 0:\n",
    "            y1_fmt = re.search(r'([NBRQK])?([a-h])?([1-8])?(x)?([a-h][1-8])(=[NBRQK])?(\\+|#)?|^O-O(-O)?', y[1] )\n",
    "            if y1_fmt and y1_fmt.group(0):\n",
    "                res = res + \" \" + y[0] + \" \" + y1_fmt.group(0)\n",
    "        else:\n",
    "            res = res + \" \" + y[0]\n",
    "    res = res.strip()\n",
    "    return res"
   ]
  },
  {
   "cell_type": "markdown",
   "id": "6e808b22",
   "metadata": {},
   "source": [
    "#### Getting data into a list format"
   ]
  },
  {
   "cell_type": "code",
   "execution_count": 67,
   "id": "3c95d410",
   "metadata": {
    "scrolled": true
   },
   "outputs": [],
   "source": [
    "def get_data_in_list_format(file):\n",
    "    f = open(file, \"r\")\n",
    "    cur = []\n",
    "    dfc = []\n",
    "    moves = \"\"\n",
    "    n_count = 0\n",
    "    \n",
    "    for line in f:\n",
    "        if line == '\\n':\n",
    "            n_count +=1\n",
    "        if n_count == 1:\n",
    "            moves = moves + line.strip()\n",
    "        elif n_count == 2:\n",
    "            if len(cur)!=10:\n",
    "                cur.append(\" \")\n",
    "            moves_fmt = format_moves(moves)\n",
    "            #cur.append(moves_fmt)\n",
    "            opening = find_opening(moves_fmt)\n",
    "            cur.extend([moves_fmt, opening])\n",
    "            dfc.append(cur[2:]) #removing Event, Place\n",
    "            cur = []\n",
    "            n_count = 0\n",
    "            moves = \"\"\n",
    "        else:\n",
    "            x = ((line.strip())[1:-1]).replace(',', ' ').split(' ', 1)\n",
    "            cur.append(x[1])\n",
    "    \n",
    "    return dfc\n"
   ]
  },
  {
   "cell_type": "code",
   "execution_count": 68,
   "id": "79105c9d",
   "metadata": {},
   "outputs": [],
   "source": [
    "def check_df(dfc):\n",
    "    df = pd.DataFrame(dfc)\n",
    "    print(df.head(1))"
   ]
  },
  {
   "cell_type": "code",
   "execution_count": 69,
   "id": "20d2267e",
   "metadata": {
    "scrolled": true
   },
   "outputs": [],
   "source": [
    "def get_dataframe(dfc):\n",
    "    df = pd.DataFrame(dfc, columns=['Date', 'Round', 'White', 'Black', 'Result', 'WhiteElo', 'BlackElo', 'ECO', 'Moves', 'Opening'])\n",
    "\n",
    "    df['Year'] = df.Date.str[1:5]\n",
    "    df.reset_index(inplace=True)\n",
    "    df.replace('\"', '', regex=True, inplace=True)\n",
    "    \n",
    "    df[\"WhiteElo\"] = pd.to_numeric(df[\"WhiteElo\"])\n",
    "    df[\"BlackElo\"] = pd.to_numeric(df[\"BlackElo\"])\n",
    "    df[\"Year\"] = pd.to_numeric(df[\"Year\"])\n",
    "\n",
    "    \n",
    "    df['game_result'] = np.where(\n",
    "        df['Result'] == \"1-0\", \"white\", np.where( #white wins,1\n",
    "        df['Result'] ==  \"0-1\", \"black\", np.where(  #black wins,2\n",
    "        df['Result'] ==  \"1/2-1/2\", \"draw\", '')))  #draw,0\n",
    "\n",
    "    \n",
    "    df.drop(['Round', 'Date', 'Result'], axis=1, inplace=True)\n",
    "    df.replace('', np.NaN, inplace=True)\n",
    "\n",
    "\n",
    "    return df\n",
    "          \n",
    "    "
   ]
  },
  {
   "cell_type": "markdown",
   "id": "0c04356c",
   "metadata": {},
   "source": [
    "### Getting insights from data and Filtering the data\n",
    "#### 1. Getting count of number of records in each column\n",
    "#### 2. Checking Null values: \n",
    "* The missing values are high for Elo rating of Players.\n",
    "Since it's an important factor in the analysis, replacing these missing values with mean or some other value, might harm the analysis. Hence we are dropping the rows that contains missing values.\n",
    "* The game_result is missing for 1-4 records, which are dropped.\n",
    "\n",
    "#### 3. Dropping Rows with Elo rating < 2000 (also checking for number of records for a range of Elo Rating)\n",
    "#### 4. Checking for number of records for Year > 2000 and <2000\n",
    "#### 5. Dropping Rows where openings are not identified\n",
    "#### 6. Plotting Win statistics"
   ]
  },
  {
   "cell_type": "code",
   "execution_count": 70,
   "id": "bc7467b7",
   "metadata": {},
   "outputs": [],
   "source": [
    "def get_insights_and_filter_data(df, opening):\n",
    "    \n",
    "    #Finding stastistical information of some columns\n",
    "    cols_stats = ['WhiteElo', 'BlackElo', 'Year']\n",
    "    print(\"\\n ---------Count ---------\")\n",
    "    print(df.count())\n",
    "\n",
    "    #checking for null\n",
    "    print(\"\\n ---------Null values---------\")\n",
    "    print(df.isna().sum())\n",
    "\n",
    "    df.dropna(inplace=True, subset=['WhiteElo', 'BlackElo', 'game_result', 'Moves'])\n",
    "    print(f\"\\nNo of records after dropping NaN: {len(df)}\")\n",
    "    \n",
    "    c = df.loc[(df['WhiteElo'] < 1500) & (df['BlackElo'] < 1500)]\n",
    "    print(f\"\\nNo of records for EloRating <1500: {len(c)}\")\n",
    "    \n",
    "    d = df.loc[(df['WhiteElo'] >= 1500) & (df['BlackElo'] >= 1500) & (df['WhiteElo'] < 2000) & (df['BlackElo'] < 2000)]\n",
    "    print(f\"\\nNo of records for EloRating >1500 snd <2000: {len(d)}\")\n",
    "    \n",
    "    df = df.loc[(df['WhiteElo'] >= 2000) & (df['BlackElo'] >= 2000)]\n",
    "    print(f\"\\nNo of records for EloRating >2000: {len(df)}\")\n",
    "    \n",
    "    a = df[df['Year']>2000]\n",
    "    print(f\"\\nNo of records for Year >2000: {len(a)}\")\n",
    "\n",
    "    b = df[df['Year']<2000]\n",
    "    print(f\"\\nNo of records for Year <2000: {len(b)}\\n\")\n",
    "    \n",
    "    #dropping rows where opening is unidentified\n",
    "    df = df.loc[df['Opening'] != 'unidentified']\n",
    "    num_of_rows = len(df)\n",
    "    print(f\"\\nNo of records after dropping unidentified openings / Final count of data: {len(df)}\")\n",
    "    \n",
    "    print(\"\\nWin statistics :\")\n",
    "    print(df['game_result'].value_counts())\n",
    "    \n",
    "    plt.figure()\n",
    "    df['game_result'].value_counts().plot(kind='bar', title='win statistics for '+ opening + 'opening, Number of Games:' + str(num_of_rows) )\n",
    "    \n",
    "    return df\n",
    "    "
   ]
  },
  {
   "cell_type": "markdown",
   "id": "c08074aa",
   "metadata": {},
   "source": [
    "### Getting files from different input files and writing it into a single file"
   ]
  },
  {
   "cell_type": "code",
   "execution_count": 71,
   "id": "fcb6857a",
   "metadata": {},
   "outputs": [
    {
     "name": "stdout",
     "output_type": "stream",
     "text": [
      "\n",
      "\n",
      "===================================  FourKnights===================================\n",
      "\n",
      " ---------Count ---------\n",
      "index          23921\n",
      "White          23921\n",
      "Black          23921\n",
      "WhiteElo       17510\n",
      "BlackElo       17342\n",
      "ECO            23921\n",
      "Moves          23921\n",
      "Opening        23921\n",
      "Year           23921\n",
      "game_result    23917\n",
      "dtype: int64\n",
      "\n",
      " ---------Null values---------\n",
      "index             0\n",
      "White             0\n",
      "Black             0\n",
      "WhiteElo       6411\n",
      "BlackElo       6579\n",
      "ECO               0\n",
      "Moves             0\n",
      "Opening           0\n",
      "Year              0\n",
      "game_result       4\n",
      "dtype: int64\n",
      "\n",
      "No of records after dropping NaN: 15975\n",
      "\n",
      "No of records for EloRating <1500: 119\n",
      "\n",
      "No of records for EloRating >1500 snd <2000: 756\n",
      "\n",
      "No of records for EloRating >2000: 13093\n",
      "\n",
      "No of records for Year >2000: 9440\n",
      "\n",
      "No of records for Year <2000: 3447\n",
      "\n",
      "\n",
      "No of records after dropping unidentified openings / Final count of data: 10066\n",
      "\n",
      "Win statistics :\n",
      "draw     4424\n",
      "white    2989\n",
      "black    2653\n",
      "Name: game_result, dtype: int64\n",
      "\n",
      "\n",
      "===================================  Caro-KannClassic===================================\n",
      "\n",
      " ---------Count ---------\n",
      "index          24173\n",
      "White          24173\n",
      "Black          24173\n",
      "WhiteElo       20621\n",
      "BlackElo       20290\n",
      "ECO            24173\n",
      "Moves          24173\n",
      "Opening        24173\n",
      "Year           24173\n",
      "game_result    24172\n",
      "dtype: int64\n",
      "\n",
      " ---------Null values---------\n",
      "index             0\n",
      "White             0\n",
      "Black             0\n",
      "WhiteElo       3552\n",
      "BlackElo       3883\n",
      "ECO               0\n",
      "Moves             0\n",
      "Opening           0\n",
      "Year              0\n",
      "game_result       1\n",
      "dtype: int64\n",
      "\n",
      "No of records after dropping NaN: 19238\n",
      "\n",
      "No of records for EloRating <1500: 69\n",
      "\n",
      "No of records for EloRating >1500 snd <2000: 1035\n",
      "\n",
      "No of records for EloRating >2000: 15372\n",
      "\n",
      "No of records for Year >2000: 12323\n",
      "\n",
      "No of records for Year <2000: 2776\n",
      "\n",
      "\n",
      "No of records after dropping unidentified openings / Final count of data: 9616\n",
      "\n",
      "Win statistics :\n",
      "draw     3945\n",
      "white    2928\n",
      "black    2743\n",
      "Name: game_result, dtype: int64\n",
      "\n",
      "\n",
      "===================================  QID4e3===================================\n",
      "\n",
      " ---------Count ---------\n",
      "index          3913\n",
      "White          3911\n",
      "Black          3913\n",
      "WhiteElo       3179\n",
      "BlackElo       3172\n",
      "ECO            3913\n",
      "Moves          3913\n",
      "Opening        3913\n",
      "Year           3913\n",
      "game_result    3912\n",
      "dtype: int64\n",
      "\n",
      " ---------Null values---------\n",
      "index            0\n",
      "White            2\n",
      "Black            0\n",
      "WhiteElo       734\n",
      "BlackElo       741\n",
      "ECO              0\n",
      "Moves            0\n",
      "Opening          0\n",
      "Year             0\n",
      "game_result      1\n",
      "dtype: int64\n",
      "\n",
      "No of records after dropping NaN: 3028\n",
      "\n",
      "No of records for EloRating <1500: 0\n",
      "\n",
      "No of records for EloRating >1500 snd <2000: 94\n",
      "\n",
      "No of records for EloRating >2000: 2703\n",
      "\n",
      "No of records for Year >2000: 1605\n",
      "\n",
      "No of records for Year <2000: 1039\n",
      "\n",
      "\n",
      "No of records after dropping unidentified openings / Final count of data: 1596\n",
      "\n",
      "Win statistics :\n",
      "draw     645\n",
      "white    504\n",
      "black    447\n",
      "Name: game_result, dtype: int64\n",
      "\n",
      "\n",
      "===================================  SicilianRossolimo===================================\n",
      "\n",
      " ---------Count ---------\n",
      "index          35422\n",
      "White          35422\n",
      "Black          35422\n",
      "WhiteElo       32014\n",
      "BlackElo       31440\n",
      "ECO            35422\n",
      "Moves          35422\n",
      "Opening        35422\n",
      "Year           35422\n",
      "game_result    35420\n",
      "dtype: int64\n",
      "\n",
      " ---------Null values---------\n",
      "index             0\n",
      "White             0\n",
      "Black             0\n",
      "WhiteElo       3408\n",
      "BlackElo       3982\n",
      "ECO               0\n",
      "Moves             0\n",
      "Opening           0\n",
      "Year              0\n",
      "game_result       2\n",
      "dtype: int64\n",
      "\n",
      "No of records after dropping NaN: 30007\n",
      "\n",
      "No of records for EloRating <1500: 30\n",
      "\n",
      "No of records for EloRating >1500 snd <2000: 802\n",
      "\n",
      "No of records for EloRating >2000: 26035\n",
      "\n",
      "No of records for Year >2000: 18651\n",
      "\n",
      "No of records for Year <2000: 6817\n",
      "\n",
      "\n",
      "No of records after dropping unidentified openings / Final count of data: 25710\n",
      "\n",
      "Win statistics :\n",
      "white    10219\n",
      "draw      8732\n",
      "black     6759\n",
      "Name: game_result, dtype: int64\n",
      "\n",
      "\n",
      "===================================  SicilianDragonOther6===================================\n",
      "\n",
      " ---------Count ---------\n",
      "index          4375\n",
      "White          4375\n",
      "Black          4375\n",
      "WhiteElo       3088\n",
      "BlackElo       3035\n",
      "ECO            4375\n",
      "Moves          4375\n",
      "Opening        4375\n",
      "Year           4375\n",
      "game_result    4374\n",
      "dtype: int64\n",
      "\n",
      " ---------Null values---------\n",
      "index             0\n",
      "White             0\n",
      "Black             0\n",
      "WhiteElo       1287\n",
      "BlackElo       1340\n",
      "ECO               0\n",
      "Moves             0\n",
      "Opening           0\n",
      "Year              0\n",
      "game_result       1\n",
      "dtype: int64\n",
      "\n",
      "No of records after dropping NaN: 2678\n",
      "\n",
      "No of records for EloRating <1500: 12\n",
      "\n",
      "No of records for EloRating >1500 snd <2000: 215\n",
      "\n",
      "No of records for EloRating >2000: 1980\n",
      "\n",
      "No of records for Year >2000: 1122\n",
      "\n",
      "No of records for Year <2000: 821\n",
      "\n",
      "\n",
      "No of records after dropping unidentified openings / Final count of data: 1752\n",
      "\n",
      "Win statistics :\n",
      "white    729\n",
      "draw     515\n",
      "black    508\n",
      "Name: game_result, dtype: int64\n",
      "\n",
      "Time:\n",
      "10.482786893844604\n"
     ]
    },
    {
     "data": {
      "image/png": "[encoded data removed]",
      "text/plain": [
       "<Figure size 432x288 with 1 Axes>"
      ]
     },
     "metadata": {
      "needs_background": "light"
     },
     "output_type": "display_data"
    },
    {
     "data": {
      "image/png": "[encoded data removed]",
      "text/plain": [
       "<Figure size 432x288 with 1 Axes>"
      ]
     },
     "metadata": {
      "needs_background": "light"
     },
     "output_type": "display_data"
    },
    {
     "data": {
      "image/png": "[encoded data removed]",
      "text/plain": [
       "<Figure size 432x288 with 1 Axes>"
      ]
     },
     "metadata": {
      "needs_background": "light"
     },
     "output_type": "display_data"
    },
    {
     "data": {
      "image/png": "[encoded data removed]",
      "text/plain": [
       "<Figure size 432x288 with 1 Axes>"
      ]
     },
     "metadata": {
      "needs_background": "light"
     },
     "output_type": "display_data"
    },
    {
     "data": {
      "image/png": "[encoded data removed]",
      "text/plain": [
       "<Figure size 432x288 with 1 Axes>"
      ]
     },
     "metadata": {
      "needs_background": "light"
     },
     "output_type": "display_data"
    }
   ],
   "source": [
    "import time\n",
    "\n",
    "start = time.time()\n",
    "header_exists = False\n",
    "\n",
    "for key in opening_files:\n",
    "    print(\"\\n\\n===================================  \" + opening_files[key][:-4] +   \"===================================\")\n",
    "    dfc = get_data_in_list_format(\"data/\" + opening_files[key])\n",
    "    #check_df(dfc)\n",
    "    df = get_dataframe(dfc)\n",
    "    df = get_insights_and_filter_data(df, opening_files[key][:-4])\n",
    "    if header_exists:\n",
    "        df.to_csv('data/output/output.csv' ,mode='a', header=False)\n",
    "    else:\n",
    "        df.to_csv('data/output/output.csv')\n",
    "        header_exists = True\n",
    "        \n",
    "end = time.time()\n",
    "print('\\nTime:')\n",
    "print(end - start)"
   ]
  },
  {
   "cell_type": "markdown",
   "id": "22bb423b",
   "metadata": {},
   "source": [
    "### old code, unused currently\n",
    "#### function to get moves in a list so that it can later be split into columns"
   ]
  },
  {
   "cell_type": "code",
   "execution_count": 72,
   "id": "84ef4f06",
   "metadata": {},
   "outputs": [],
   "source": [
    "#import string, re\n",
    "def pre_process_moves_old(moves):\n",
    "    res = []\n",
    "    x = moves.split('.')\n",
    "    for item in x[1:]:\n",
    "        y = (item.split(' '))[:2]\n",
    "        if y[1]:\n",
    "            y1_fmt = re.search(r'([NBRQK])?([a-h])?([1-8])?(x)?([a-h][1-8])(=[NBRQK])?(\\+|#)?|^O-O(-O)?', y[1] )\n",
    "            if y1_fmt.group(0):\n",
    "                res.extend([y[0], y1_fmt.group(0)])\n",
    "        else:\n",
    "            res.append(y[0])\n",
    "    \n",
    "    return res\n",
    "\n",
    "\n",
    "# code to split the list into columns\n",
    "\n",
    "# df2 = pd.DataFrame(df.Moves.values.tolist(), index= df.index)\n",
    "# merge_df = pd.merge(df, df2, left_index=True, right_index=True)\n",
    "\n",
    "\n",
    "# def prep_training(df, first_n_moves):\n",
    "#     cols = []\n",
    "#     for i in range(0,first_n_moves*2,2):\n",
    "#         cols.extend([i, i+1])\n",
    "#     cols.extend(['WhiteElo', 'BlackElo', 'opening'])\n",
    "#     print(cols)\n",
    "    \n",
    "#     x = df[cols]\n",
    "#     y = df.iloc[:, 10]\n",
    "\n",
    "#df['Moves'].unique()\n",
    "#df.loc[df['Moves'] == '']\n",
    "# for row in mdf.iterrows():\n",
    "#     print(row)"
   ]
  }
 ],
 "metadata": {
  "kernelspec": {
   "display_name": "Python 3",
   "language": "python",
   "name": "python3"
  },
  "language_info": {
   "codemirror_mode": {
    "name": "ipython",
    "version": 3
   },
   "file_extension": ".py",
   "mimetype": "text/x-python",
   "name": "python",
   "nbconvert_exporter": "python",
   "pygments_lexer": "ipython3",
   "version": "3.8.8"
  }
 },
 "nbformat": 4,
 "nbformat_minor": 5
}
